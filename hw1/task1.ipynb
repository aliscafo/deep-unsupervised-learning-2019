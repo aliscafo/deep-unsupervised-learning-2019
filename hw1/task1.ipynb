{
 "cells": [
  {
   "cell_type": "markdown",
   "metadata": {},
   "source": [
    "### 1. Warmup"
   ]
  },
  {
   "cell_type": "code",
   "execution_count": 51,
   "metadata": {},
   "outputs": [],
   "source": [
    "import numpy as np\n",
    "from sklearn.model_selection import train_test_split\n",
    "import matplotlib.pyplot as plt\n",
    "from collections import Counter\n",
    "\n",
    "import torch"
   ]
  },
  {
   "cell_type": "code",
   "execution_count": 22,
   "metadata": {},
   "outputs": [
    {
     "data": {
      "text/plain": [
       "<torch._C.Generator at 0x1a2ba621d0>"
      ]
     },
     "execution_count": 22,
     "metadata": {},
     "output_type": "execute_result"
    }
   ],
   "source": [
    "seed = 761\n",
    "torch.manual_seed(seed)"
   ]
  },
  {
   "cell_type": "code",
   "execution_count": 23,
   "metadata": {},
   "outputs": [],
   "source": [
    "def sample_data():\n",
    "    count = 10000\n",
    "    rand = np.random.RandomState(0)\n",
    "    a = 0.3 + 0.1 * rand.randn(count)\n",
    "    b = 0.8 + 0.05 * rand.randn(count)\n",
    "    mask = rand.rand(count) < 0.5\n",
    "    samples = np.clip(a * mask + b * (1 - mask), 0.0, 1.0)\n",
    "    return np.digitize(samples, np.linspace(0.0, 1.0, 100))"
   ]
  },
  {
   "cell_type": "code",
   "execution_count": 24,
   "metadata": {},
   "outputs": [
    {
     "name": "stdout",
     "output_type": "stream",
     "text": [
      "[48 76 88 ... 35 30 43]\n"
     ]
    }
   ],
   "source": [
    "data = sample_data()\n",
    "print(data)"
   ]
  },
  {
   "cell_type": "code",
   "execution_count": 25,
   "metadata": {},
   "outputs": [
    {
     "name": "stdout",
     "output_type": "stream",
     "text": [
      "Train size: 6000\n",
      "Validation size: 2000\n",
      "Test size: 2000\n"
     ]
    }
   ],
   "source": [
    "train_dataset, val_dataset = train_test_split(data, train_size=0.8, random_state=seed)\n",
    "train_dataset, test_dataset = train_test_split(train_dataset, train_size=0.75, random_state=seed)\n",
    "\n",
    "print(\"Train size:\", len(train_dataset))\n",
    "print(\"Validation size:\", len(val_dataset))\n",
    "print(\"Test size:\", len(test_dataset))"
   ]
  },
  {
   "cell_type": "code",
   "execution_count": 26,
   "metadata": {},
   "outputs": [],
   "source": [
    "num_epochs = 200\n",
    "batch_size = 1000"
   ]
  },
  {
   "cell_type": "code",
   "execution_count": 27,
   "metadata": {},
   "outputs": [],
   "source": [
    "def NLLLoss(theta, batch):\n",
    "    size = len(batch)\n",
    "    output = torch.exp(theta) / torch.sum(torch.exp(theta))\n",
    "    probs = torch.gather(output, dim=0, index=batch)\n",
    "    loss = torch.sum(-torch.log2(probs)) / size\n",
    "    return loss"
   ]
  },
  {
   "cell_type": "code",
   "execution_count": 28,
   "metadata": {},
   "outputs": [],
   "source": [
    "train_loader = torch.utils.data.DataLoader(train_dataset, batch_size=batch_size, shuffle=True, num_workers=4)\n",
    "val_loader = torch.utils.data.DataLoader(val_dataset, batch_size=len(val_dataset), shuffle=False)\n",
    "test_loader = torch.utils.data.DataLoader(test_dataset, batch_size=len(test_dataset), shuffle=False)"
   ]
  },
  {
   "cell_type": "code",
   "execution_count": 29,
   "metadata": {},
   "outputs": [],
   "source": [
    "theta = torch.zeros(100, requires_grad=True)\n",
    "optimizer = torch.optim.Adam([theta])"
   ]
  },
  {
   "cell_type": "code",
   "execution_count": 30,
   "metadata": {},
   "outputs": [
    {
     "name": "stdout",
     "output_type": "stream",
     "text": [
      "Epoch 20/200, step: 120, loss: 6.452997207641602\n",
      "Epoch 40/200, step: 240, loss: 6.270207405090332\n",
      "Epoch 60/200, step: 360, loss: 6.146415710449219\n",
      "Epoch 80/200, step: 480, loss: 6.034366130828857\n",
      "Epoch 100/200, step: 600, loss: 5.992528438568115\n",
      "Epoch 120/200, step: 720, loss: 5.910437107086182\n",
      "Epoch 140/200, step: 840, loss: 5.930117607116699\n",
      "Epoch 160/200, step: 960, loss: 5.826674938201904\n",
      "Epoch 180/200, step: 1080, loss: 5.897929668426514\n",
      "Epoch 200/200, step: 1200, loss: 5.863279342651367\n"
     ]
    }
   ],
   "source": [
    "train_loss_vals = []\n",
    "val_loss_vals_x = []\n",
    "val_loss_vals_y = []\n",
    "\n",
    "for epoch in range(num_epochs):\n",
    "    for idx, train_batch in enumerate(train_loader):\n",
    "        loss = NLLLoss(theta, train_batch)\n",
    "        loss.backward()\n",
    "        optimizer.step()\n",
    "        train_loss_vals.append(loss.item())\n",
    "\n",
    "    if (epoch + 1) % 20 == 0 :\n",
    "        print(f'Epoch {epoch + 1}/{num_epochs}, step: {len(train_loss_vals)}, loss: {loss.item()}')\n",
    "\n",
    "    val_batch = next(iter(val_loader))  \n",
    "    val_loss = NLLLoss(theta, val_batch)\n",
    "\n",
    "    val_loss_vals_x.append(len(train_loss_vals))\n",
    "    val_loss_vals_y.append(val_loss.item())"
   ]
  },
  {
   "cell_type": "code",
   "execution_count": 33,
   "metadata": {},
   "outputs": [
    {
     "data": {
      "image/png": "[encoded data removed]",
      "text/plain": [
       "<Figure size 432x288 with 1 Axes>"
      ]
     },
     "metadata": {
      "needs_background": "light"
     },
     "output_type": "display_data"
    }
   ],
   "source": [
    "plt.title(\"Loss values\")\n",
    "plt.xlabel('step')\n",
    "plt.ylabel('loss')\n",
    "\n",
    "train_x_vals = [i for i in range(len(train_loss_vals))]\n",
    "train_y_vals = [train_loss_vals[k] for k in train_x_vals]\n",
    "\n",
    "plt.plot(train_x_vals, train_y_vals, label='train')\n",
    "plt.plot(val_loss_vals_x, val_loss_vals_y, label='validation')\n",
    "\n",
    "plt.legend()\n",
    "plt.show()"
   ]
  },
  {
   "cell_type": "code",
   "execution_count": 38,
   "metadata": {},
   "outputs": [
    {
     "name": "stdout",
     "output_type": "stream",
     "text": [
      "Test loss: 5.875157356262207\n"
     ]
    }
   ],
   "source": [
    "test_batch = next(iter(test_loader))  \n",
    "test_loss = NLLLoss(theta, test_batch)\n",
    "print(\"Test loss:\", test_loss.item())"
   ]
  },
  {
   "cell_type": "code",
   "execution_count": 54,
   "metadata": {},
   "outputs": [
    {
     "ename": "SyntaxError",
     "evalue": "invalid syntax (<ipython-input-54-269b771bcbd8>, line 5)",
     "output_type": "error",
     "traceback": [
      "\u001b[0;36m  File \u001b[0;32m\"<ipython-input-54-269b771bcbd8>\"\u001b[0;36m, line \u001b[0;32m5\u001b[0m\n\u001b[0;31m    =plt.title(\"Resampled Data Distribution (1)\")\u001b[0m\n\u001b[0m    ^\u001b[0m\n\u001b[0;31mSyntaxError\u001b[0m\u001b[0;31m:\u001b[0m invalid syntax\n"
     ]
    }
   ],
   "source": [
    "random_sample = np.random.choice(range(1, 101), size=1000, p=theta_vec_exp)\n",
    "random_sample_counts = Counter(random_sample)\n",
    "random_sample_freq_probs = [random_sample_counts[k] for k in sorted(random_sample_counts.keys())]\n",
    "\n",
    "plt.title(\"Resampled Data Distribution (1)\")\n",
    "plt.xlabel(\"x\")\n",
    "plt.ylabel(\"Probability by Frequency\")\n",
    "plt.bar(range(1, len(random_sample_freq_probs)+1), random_sample_freq_probs)\n",
    "plt.show()"
   ]
  },
  {
   "cell_type": "code",
   "execution_count": 60,
   "metadata": {},
   "outputs": [
    {
     "data": {
      "image/png": "[encoded data removed]",
      "text/plain": [
       "<Figure size 1080x720 with 3 Axes>"
      ]
     },
     "metadata": {
      "needs_background": "light"
     },
     "output_type": "display_data"
    }
   ],
   "source": [
    "theta_softmax = torch.exp(theta) / torch.sum(torch.exp(theta))\n",
    "probs = theta_softmax.detach().numpy()\n",
    "\n",
    "plt.figure(figsize=(15, 10))\n",
    "plt.subplot(221)\n",
    "plt.title(\"Model probabilities\")\n",
    "plt.xlabel(\"x\")\n",
    "plt.ylabel(\"p(x)\")\n",
    "plt.bar(range(1, 101), probs)\n",
    "plt.grid(True)\n",
    "\n",
    "plt.subplot(222)\n",
    "plt.title(\"Original distribution\")\n",
    "plt.xlabel(\"x\")\n",
    "plt.ylabel(\"p(x)\")\n",
    "counts = Counter(data)\n",
    "data_size = len(data)\n",
    "sorted_keys = sorted(counts.keys())\n",
    "freqs = [counts[i] / data_size for i in sorted_keys]\n",
    "plt.bar(range(1, len(freqs) + 1), freqs)\n",
    "plt.grid(True)\n",
    "\n",
    "plt.subplot(223)\n",
    "plt.title(\"Random sample with p=theta\")\n",
    "plt.xlabel(\"x\")\n",
    "plt.ylabel(\"p(x)\")\n",
    "sample = np.random.choice(range(1, 101), size=1000, p=probs)\n",
    "counts = Counter(sample)\n",
    "sorted_keys = sorted(counts.keys())\n",
    "freqs = [counts[i] for i in sorted_keys]\n",
    "plt.bar(range(1, len(freqs)+1), freqs)\n",
    "plt.grid(True)"
   ]
  },
  {
   "cell_type": "code",
   "execution_count": null,
   "metadata": {},
   "outputs": [],
   "source": []
  }
 ],
 "metadata": {
  "kernelspec": {
   "display_name": "Python 3",
   "language": "python",
   "name": "python3"
  },
  "language_info": {
   "codemirror_mode": {
    "name": "ipython",
    "version": 3
   },
   "file_extension": ".py",
   "mimetype": "text/x-python",
   "name": "python",
   "nbconvert_exporter": "python",
   "pygments_lexer": "ipython3",
   "version": "3.7.3"
  }
 },
 "nbformat": 4,
 "nbformat_minor": 2
}
