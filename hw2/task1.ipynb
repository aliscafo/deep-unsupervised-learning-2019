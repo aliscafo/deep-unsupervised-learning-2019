{
  "nbformat": 4,
  "nbformat_minor": 0,
  "metadata": {
    "kernelspec": {
      "name": "python3",
      "display_name": "Python 3"
    },
    "language_info": {
      "codemirror_mode": {
        "name": "ipython",
        "version": 3
      },
      "file_extension": ".py",
      "mimetype": "text/x-python",
      "name": "python",
      "nbconvert_exporter": "python",
      "pygments_lexer": "ipython3",
      "version": "3.7.3"
    },
    "colab": {
      "name": "task1.ipynb",
      "provenance": [],
      "collapsed_sections": [],
      "toc_visible": true
    },
    "accelerator": "GPU"
  },
  "cells": [
    {
      "cell_type": "code",
      "metadata": {
        "id": "U_KGQn-cII6Q",
        "colab_type": "code",
        "colab": {}
      },
      "source": [
        "import torch\n",
        "import numpy as np\n",
        "import matplotlib\n",
        "import matplotlib.pyplot as plt\n",
        "from collections import OrderedDict\n",
        "import torch.nn.functional as F\n",
        "from torch.distributions import Normal\n",
        "import torch.nn as nn\n",
        "import os\n",
        "import torch.optim as optim"
      ],
      "execution_count": 0,
      "outputs": []
    },
    {
      "cell_type": "code",
      "metadata": {
        "id": "WD00N3SvII6U",
        "colab_type": "code",
        "colab": {}
      },
      "source": [
        "def sample_data():\n",
        "  count = 100000\n",
        "  rand = np.random.RandomState(0)\n",
        "  a = [[-1.5, 2.5]] + rand.randn(count // 3, 2) * 0.2\n",
        "  b = [[1.5, 2.5]] + rand.randn(count // 3, 2) * 0.2\n",
        "  c = np.c_[2 * np.cos(np.linspace(0, np.pi, count // 3)),\n",
        "  -np.sin(np.linspace(0, np.pi, count // 3))]\n",
        "\n",
        "  c += rand.randn(*c.shape) * 0.2\n",
        "  data_x = np.concatenate([a, b, c], axis=0)\n",
        "  data_y = np.array([0] * len(a) + [1] * len(b) + [2] * len(c))\n",
        "  perm = rand.permutation(len(data_x))\n",
        "  return data_x[perm], data_y[perm]"
      ],
      "execution_count": 0,
      "outputs": []
    },
    {
      "cell_type": "code",
      "metadata": {
        "id": "oTUNllzOII6W",
        "colab_type": "code",
        "colab": {
          "base_uri": "https://localhost:8080/",
          "height": 272
        },
        "outputId": "0270d1de-7d7a-46e9-a2af-510724cbcdf2"
      },
      "source": [
        "X, y = sample_data()\n",
        "print(\"X shape: \", X.shape)\n",
        "print(\"y shape: \", y.shape)\n",
        "\n",
        "plt.figure(figsize=(3.5, 3.5))\n",
        "plt.scatter(X[:, 0], X[:, 1], c=y, cmap='tab10')\n",
        "plt.show()"
      ],
      "execution_count": 60,
      "outputs": [
        {
          "output_type": "stream",
          "text": [
            "X shape:  (99999, 2)\n",
            "y shape:  (99999,)\n"
          ],
          "name": "stdout"
        },
        {
          "output_type": "display_data",
          "data": {
            "image/png": "[encoded data removed]",
            "text/plain": [
              "<Figure size 252x252 with 1 Axes>"
            ]
          },
          "metadata": {
            "tags": []
          }
        }
      ]
    },
    {
      "cell_type": "code",
      "metadata": {
        "id": "tLZjK8mYMnBr",
        "colab_type": "code",
        "colab": {
          "base_uri": "https://localhost:8080/",
          "height": 51
        },
        "outputId": "f1941f20-abee-47b3-fe5b-d787001788f3"
      },
      "source": [
        "split = int(0.8 * 100000)\n",
        "X_train, X_test = X[:split,], X[split:,]\n",
        "y_train, y_test = y[:split,], y[split:,]\n",
        "\n",
        "print(\"X_train shape: \", X_train.shape)\n",
        "print(\"X_test shape: \", X_test.shape)"
      ],
      "execution_count": 4,
      "outputs": [
        {
          "output_type": "stream",
          "text": [
            "X_train shape:  (80000, 2)\n",
            "X_test shape:  (19999, 2)\n"
          ],
          "name": "stdout"
        }
      ]
    },
    {
      "cell_type": "code",
      "metadata": {
        "id": "THCn9W-bvbUL",
        "colab_type": "code",
        "colab": {}
      },
      "source": [
        "class DataLoader:\n",
        "  def __init__(self, data, target, batch_size=10):\n",
        "    self.data = data\n",
        "    self.target = target\n",
        "    self.batch_size = batch_size\n",
        "\n",
        "  def next(self):\n",
        "    m, _ = self.data.shape\n",
        "    rand_index = np.random.choice(m, size=m)\n",
        "    X, y = self.data[rand_index], self.target[rand_index]\n",
        "    pos = 0\n",
        "    while pos < m:\n",
        "      X_batch, y_batch = X[pos:pos+self.batch_size], y[pos:pos+self.batch_size]\n",
        "      yield (X_batch, y_batch)\n",
        "      pos += self.batch_size\n",
        "\n",
        "  def __call__(self):\n",
        "    return self.next()"
      ],
      "execution_count": 0,
      "outputs": []
    },
    {
      "cell_type": "markdown",
      "metadata": {
        "id": "0FKJ78A3II6Z",
        "colab_type": "text"
      },
      "source": [
        "### Autoregressive Flow"
      ]
    },
    {
      "cell_type": "code",
      "metadata": {
        "id": "XfjZcfgpII6a",
        "colab_type": "code",
        "colab": {}
      },
      "source": [
        "class BufferedLinear(nn.Linear):\n",
        "  def __init__(self, in_features, out_features, bias=True):\n",
        "    super(BufferedLinear, self).__init__(in_features, out_features, bias=bias)\n",
        "    self.register_buffer(\"buffer\", torch.ones([out_features, in_features]).float())\n",
        "      \n",
        "  def set_buffer(self, buffer):\n",
        "    self.buffer = buffer.data\n",
        "      \n",
        "  def forward(self, x):\n",
        "    return F.linear(x, self.buffer * self.weight, self.bias)\n",
        "    \n",
        "class BaseNN(nn.Module):\n",
        "  def __init__(self, k, hidden_size):\n",
        "    super(BaseNN, self).__init__()\n",
        "    self.k = k\n",
        "    self.h = hidden_size\n",
        "    \n",
        "    buf1 = np.ones([self.h, 2], dtype=np.float32)\n",
        "    buf1[:, 1] = 0.0\n",
        "    self.linear1 = BufferedLinear(2, self.h)\n",
        "    self.linear1.set_buffer(torch.from_numpy(buf1))\n",
        "    \n",
        "    buf2 = np.ones([2 * k, self.h], dtype=np.float32)\n",
        "    buf2[:k, :] = 0.0\n",
        "    self.linear2 = BufferedLinear(self.h, 2 * k)\n",
        "    self.linear2.set_buffer(torch.from_numpy(buf2))"
      ],
      "execution_count": 0,
      "outputs": []
    },
    {
      "cell_type": "code",
      "metadata": {
        "id": "R4q6jxnre9_w",
        "colab_type": "code",
        "colab": {}
      },
      "source": [
        "class CoeffNN(BaseNN):\n",
        "  def __init__(self, k, hidden_size):\n",
        "    super().__init__(k, hidden_size)\n",
        "      \n",
        "  def forward(self, x):\n",
        "    lin1 = self.linear1(x)\n",
        "    h = F.relu(lin1)\n",
        "    lin2 = self.linear2(h)\n",
        "    lin2 = lin2.reshape([-1, 2, self.k])\n",
        "    sftmx = F.softmax(lin2, dim=2)\n",
        "    return sftmx\n",
        "    \n",
        "class MeanNN(BaseNN):\n",
        "  def __init__(self, k, hidden_size):\n",
        "    super().__init__(k, hidden_size)\n",
        "      \n",
        "  def forward(self, x):\n",
        "    lin1 = self.linear1(x)\n",
        "    h = F.relu(lin1)\n",
        "    lin2 = self.linear2(h)\n",
        "    lin2 = lin2.view([-1, 2, self.k])\n",
        "    return lin2\n",
        "    \n",
        "class VarNN(BaseNN):\n",
        "  def __init__(self, k, hidden_size):\n",
        "    super().__init__(k, hidden_size)\n",
        "      \n",
        "  def forward(self, x):\n",
        "    lin1 = self.linear1(x)\n",
        "    h = F.relu(lin1)\n",
        "    lin2 = self.linear2(h)\n",
        "    exp = torch.exp(lin2)\n",
        "    out = exp.view([-1, 2, self.k])\n",
        "    return out"
      ],
      "execution_count": 0,
      "outputs": []
    },
    {
      "cell_type": "code",
      "metadata": {
        "id": "09fMDOHPgoA0",
        "colab_type": "code",
        "colab": {}
      },
      "source": [
        "class MyModel:\n",
        "  def __init__(self, k, hidden_size):\n",
        "    self.coeffNN = CoeffNN(k, hidden_size).cuda()\n",
        "    self.meanNN = MeanNN(k, hidden_size).cuda()\n",
        "    self.varNN = VarNN(k, hidden_size).cuda()\n",
        "\n",
        "  def loss(self, x):\n",
        "    coeff, mean, var = self.coeffNN(x), self.meanNN(x), self.varNN(x)\n",
        "    x = x.unsqueeze(2)\n",
        "    w_dens = coeff * torch.exp(-torch.pow(x - mean, 2) / (2 * var)) / torch.sqrt(2 * np.pi * var)\n",
        "    dens = torch.sum(w_dens, dim=2)\n",
        "    return -torch.log(torch.abs(dens[:, 0] * dens[:, 1]))\n",
        "\n",
        "  def parameters(self):\n",
        "    return list(self.coeffNN.parameters()) + list(self.meanNN.parameters()) + list(self.varNN.parameters())\n",
        "\n",
        "  def density(self, x):\n",
        "    coeff, mean, var = self.coeffNN(x), self.meanNN(x), self.varNN(x)\n",
        "    x = x.unsqueeze(2)\n",
        "    w_dens = coeff * torch.exp(-torch.pow(x - mean, 2) / (2 * var)) / torch.sqrt(2 * np.pi * var)\n",
        "    dens = torch.sum(w_dens, dim=2)\n",
        "  \n",
        "    return torch.abs(dens[:, 0] * dens[:, 1]).detach()\n",
        "\n",
        "  def latent(self, x):\n",
        "    coeff, mean, var = self.coeffNN(x), self.meanNN(x), self.varNN(x)\n",
        "    x = x.unsqueeze(2)\n",
        "    w_cdf = coeff * (torch.erf((x - mean) / torch.sqrt(2 * var)) + 1) / 2\n",
        "    cdf = torch.sum(w_cdf, dim=2)\n",
        "    return cdf\n"
      ],
      "execution_count": 0,
      "outputs": []
    },
    {
      "cell_type": "code",
      "metadata": {
        "id": "Jt34v-LqqmeA",
        "colab_type": "code",
        "colab": {}
      },
      "source": [
        "# Hyperparameters\n",
        "k = 10\n",
        "hidden_size = 100\n",
        "lr = 1e-3\n",
        "NUM_EPOCHS = 20\n",
        "BATCH_SIZE = 256"
      ],
      "execution_count": 0,
      "outputs": []
    },
    {
      "cell_type": "code",
      "metadata": {
        "id": "nid9S4Nvwnw1",
        "colab_type": "code",
        "colab": {
          "base_uri": "https://localhost:8080/",
          "height": 357
        },
        "outputId": "13cc3c04-f471-4f3d-afe7-3454b734d682"
      },
      "source": [
        "model = MyModel(k, hidden_size)\n",
        "optimizer = optim.Adam(model.parameters(), lr=lr)\n",
        "\n",
        "dataloader = DataLoader(np.array(X_train), np.array(y_train), batch_size=BATCH_SIZE)\n",
        "\n",
        "train_x = []\n",
        "train_losses = []\n",
        "val_x = []\n",
        "val_losses = []\n",
        "\n",
        "global_step = 0\n",
        "\n",
        "val_loss = torch.mean(model.loss(torch.from_numpy(X_test).float().cuda()).detach())\n",
        "val_loss = val_loss / (2 * np.log(2))\n",
        "val_x.append(global_step)\n",
        "val_losses.append(val_loss.item())\n",
        "\n",
        "for epoch in range(NUM_EPOCHS):\n",
        "  idx = np.random.permutation(X_train.shape[0])\n",
        "  loss = None\n",
        "\n",
        "  for data in dataloader():\n",
        "    inputs, targets = data\n",
        "    batch = torch.from_numpy(inputs).float().cuda()\n",
        "    \n",
        "    loss = torch.mean(model.loss(batch))\n",
        "    \n",
        "    if (global_step + 1) % 300 == 0:\n",
        "      print(f\"EPOCH:{epoch + 1}/{NUM_EPOCHS}, GLOBAL_STEP:{global_step + 1} LOSS={loss.item()}\")\n",
        "\n",
        "    optimizer.zero_grad()\n",
        "    loss.backward()\n",
        "    optimizer.step()\n",
        "    \n",
        "    train_loss = loss.detach() / (2 * np.log(2))\n",
        "    train_x.append(global_step)\n",
        "    train_losses.append(train_loss.item())\n",
        "    \n",
        "    global_step += 1\n",
        "      \n",
        "  val_loss = torch.mean(model.loss(torch.from_numpy(X_test).float().cuda()).detach())\n",
        "  val_loss = val_loss / (2 * np.log(2))\n",
        "  val_x.append(global_step)\n",
        "  val_losses.append(val_loss.item())\n"
      ],
      "execution_count": 82,
      "outputs": [
        {
          "output_type": "stream",
          "text": [
            "EPOCH:1/20, GLOBAL_STEP:300 LOSS=2.216279983520508\n",
            "EPOCH:2/20, GLOBAL_STEP:600 LOSS=2.0862932205200195\n",
            "EPOCH:3/20, GLOBAL_STEP:900 LOSS=2.0607614517211914\n",
            "EPOCH:4/20, GLOBAL_STEP:1200 LOSS=1.9754637479782104\n",
            "EPOCH:5/20, GLOBAL_STEP:1500 LOSS=1.9218899011611938\n",
            "EPOCH:6/20, GLOBAL_STEP:1800 LOSS=1.6625055074691772\n",
            "EPOCH:7/20, GLOBAL_STEP:2100 LOSS=1.5648685693740845\n",
            "EPOCH:8/20, GLOBAL_STEP:2400 LOSS=1.5122599601745605\n",
            "EPOCH:9/20, GLOBAL_STEP:2700 LOSS=1.354689598083496\n",
            "EPOCH:10/20, GLOBAL_STEP:3000 LOSS=1.5290889739990234\n",
            "EPOCH:11/20, GLOBAL_STEP:3300 LOSS=1.3241058588027954\n",
            "EPOCH:12/20, GLOBAL_STEP:3600 LOSS=1.3593299388885498\n",
            "EPOCH:13/20, GLOBAL_STEP:3900 LOSS=1.329845666885376\n",
            "EPOCH:14/20, GLOBAL_STEP:4200 LOSS=1.3039350509643555\n",
            "EPOCH:15/20, GLOBAL_STEP:4500 LOSS=1.3802318572998047\n",
            "EPOCH:16/20, GLOBAL_STEP:4800 LOSS=1.4227311611175537\n",
            "EPOCH:17/20, GLOBAL_STEP:5100 LOSS=1.3817288875579834\n",
            "EPOCH:18/20, GLOBAL_STEP:5400 LOSS=1.371143102645874\n",
            "EPOCH:19/20, GLOBAL_STEP:5700 LOSS=1.3618139028549194\n",
            "EPOCH:20/20, GLOBAL_STEP:6000 LOSS=1.4527374505996704\n"
          ],
          "name": "stdout"
        }
      ]
    },
    {
      "cell_type": "code",
      "metadata": {
        "id": "208qCWytII6f",
        "colab_type": "code",
        "colab": {
          "base_uri": "https://localhost:8080/",
          "height": 296
        },
        "outputId": "dd2e70a7-2cd5-43ea-9f63-97b07cb305cf"
      },
      "source": [
        "plt.plot(train_x, train_losses, label=\"train\")\n",
        "plt.plot(val_x, val_losses, label=\"val\")\n",
        "plt.xlabel(\"global step\")\n",
        "plt.ylabel(\"loss\")\n",
        "plt.legend()\n",
        "plt.show()\n",
        "\n",
        "loss = torch.mean(model.loss(torch.from_numpy(X_test).float().cuda()).detach())\n",
        "bits = loss / (2 * np.log(2))\n",
        "print(f\"Final test performance: {bits.item()}\")"
      ],
      "execution_count": 83,
      "outputs": [
        {
          "output_type": "display_data",
          "data": {
            "image/png": "[encoded data removed]",
            "text/plain": [
              "<Figure size 432x288 with 1 Axes>"
            ]
          },
          "metadata": {
            "tags": []
          }
        },
        {
          "output_type": "stream",
          "text": [
            "Final test performance: 0.9676092863082886\n"
          ],
          "name": "stdout"
        }
      ]
    },
    {
      "cell_type": "code",
      "metadata": {
        "id": "kWLQassOM_lw",
        "colab_type": "code",
        "colab": {
          "base_uri": "https://localhost:8080/",
          "height": 494
        },
        "outputId": "494f7289-a8df-4be3-9e74-9ec3cefabfb2"
      },
      "source": [
        "space = np.linspace(-4, 4, 100)\n",
        "\n",
        "samples = torch.from_numpy(np.array(np.meshgrid(space, space)).T.reshape([-1, 2])).float().cuda()\n",
        "pdf = model.density(samples).cpu().data.numpy().reshape(100, 100)\n",
        "\n",
        "plt.figure(figsize=(5, 5))\n",
        "plt.imshow(pdf, cmap=\"twilight\")\n",
        "plt.xticks(np.linspace(0, 100, 9), np.linspace(-4, 4, 9))\n",
        "plt.yticks(np.linspace(0, 100, 9), np.linspace(4, -4, 9))"
      ],
      "execution_count": 94,
      "outputs": [
        {
          "output_type": "execute_result",
          "data": {
            "text/plain": [
              "([<matplotlib.axis.YTick at 0x7fac0232e048>,\n",
              "  <matplotlib.axis.YTick at 0x7fac02095320>,\n",
              "  <matplotlib.axis.YTick at 0x7fac02083470>,\n",
              "  <matplotlib.axis.YTick at 0x7fac0263c630>,\n",
              "  <matplotlib.axis.YTick at 0x7fac0263c278>,\n",
              "  <matplotlib.axis.YTick at 0x7fac0263c048>,\n",
              "  <matplotlib.axis.YTick at 0x7fac024ebd68>,\n",
              "  <matplotlib.axis.YTick at 0x7fac0263c5c0>,\n",
              "  <matplotlib.axis.YTick at 0x7fac022b8160>],\n",
              " <a list of 9 Text yticklabel objects>)"
            ]
          },
          "metadata": {
            "tags": []
          },
          "execution_count": 94
        },
        {
          "output_type": "display_data",
          "data": {
            "image/png": "[encoded data removed]",
            "text/plain": [
              "<Figure size 360x360 with 1 Axes>"
            ]
          },
          "metadata": {
            "tags": []
          }
        }
      ]
    },
    {
      "cell_type": "code",
      "metadata": {
        "id": "ASgUmGIhM_bQ",
        "colab_type": "code",
        "colab": {
          "base_uri": "https://localhost:8080/",
          "height": 320
        },
        "outputId": "2c164222-e11c-4abb-d321-0553d7381ea8"
      },
      "source": [
        "lat = model.latent(torch.from_numpy(X).float().cuda()).data.cpu().data.numpy()\n",
        "plt.figure(figsize=(5, 5))\n",
        "plt.scatter(lat[:, 0], lat[:, 1], c=y, cmap='tab10')\n",
        "plt.show()"
      ],
      "execution_count": 111,
      "outputs": [
        {
          "output_type": "display_data",
          "data": {
            "image/png": "[encoded data removed]",
            "text/plain": [
              "<Figure size 360x360 with 1 Axes>"
            ]
          },
          "metadata": {
            "tags": []
          }
        }
      ]
    },
    {
      "cell_type": "code",
      "metadata": {
        "id": "A6TO7TLUNXAd",
        "colab_type": "code",
        "colab": {}
      },
      "source": [
        ""
      ],
      "execution_count": 0,
      "outputs": []
    },
    {
      "cell_type": "markdown",
      "metadata": {
        "id": "ev2UBRQOFT5_",
        "colab_type": "text"
      },
      "source": [
        "### RealNVP"
      ]
    },
    {
      "cell_type": "code",
      "metadata": {
        "id": "tfEjhgkXNneM",
        "colab_type": "code",
        "colab": {}
      },
      "source": [
        ""
      ],
      "execution_count": 0,
      "outputs": []
    }
  ]
}