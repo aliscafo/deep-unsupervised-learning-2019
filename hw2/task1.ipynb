{
  "nbformat": 4,
  "nbformat_minor": 0,
  "metadata": {
    "kernelspec": {
      "name": "python3",
      "display_name": "Python 3"
    },
    "language_info": {
      "codemirror_mode": {
        "name": "ipython",
        "version": 3
      },
      "file_extension": ".py",
      "mimetype": "text/x-python",
      "name": "python",
      "nbconvert_exporter": "python",
      "pygments_lexer": "ipython3",
      "version": "3.7.3"
    },
    "colab": {
      "name": "task1.ipynb",
      "provenance": [],
      "collapsed_sections": [],
      "toc_visible": true
    },
    "accelerator": "GPU"
  },
  "cells": [
    {
      "cell_type": "code",
      "metadata": {
        "id": "U_KGQn-cII6Q",
        "colab_type": "code",
        "colab": {}
      },
      "source": [
        "import torch\n",
        "import numpy as np\n",
        "import matplotlib\n",
        "import matplotlib.pyplot as plt\n",
        "from collections import OrderedDict\n",
        "import torch.nn.functional as F\n",
        "from torch.distributions import Normal\n",
        "import torch.nn as nn\n",
        "import os\n",
        "import torch.optim as optim\n",
        "from torch.distributions import Normal, Uniform"
      ],
      "execution_count": 0,
      "outputs": []
    },
    {
      "cell_type": "code",
      "metadata": {
        "id": "WD00N3SvII6U",
        "colab_type": "code",
        "colab": {}
      },
      "source": [
        "def sample_data():\n",
        "  count = 100000\n",
        "  rand = np.random.RandomState(0)\n",
        "  a = [[-1.5, 2.5]] + rand.randn(count // 3, 2) * 0.2\n",
        "  b = [[1.5, 2.5]] + rand.randn(count // 3, 2) * 0.2\n",
        "  c = np.c_[2 * np.cos(np.linspace(0, np.pi, count // 3)),\n",
        "  -np.sin(np.linspace(0, np.pi, count // 3))]\n",
        "\n",
        "  c += rand.randn(*c.shape) * 0.2\n",
        "  data_x = np.concatenate([a, b, c], axis=0)\n",
        "  data_y = np.array([0] * len(a) + [1] * len(b) + [2] * len(c))\n",
        "  perm = rand.permutation(len(data_x))\n",
        "  return data_x[perm], data_y[perm]"
      ],
      "execution_count": 0,
      "outputs": []
    },
    {
      "cell_type": "code",
      "metadata": {
        "id": "oTUNllzOII6W",
        "colab_type": "code",
        "outputId": "ccdd7b35-0850-475e-a081-21932f7215dd",
        "colab": {
          "base_uri": "https://localhost:8080/",
          "height": 272
        }
      },
      "source": [
        "X, y = sample_data()\n",
        "print(\"X shape: \", X.shape)\n",
        "print(\"y shape: \", y.shape)\n",
        "\n",
        "plt.figure(figsize=(3.5, 3.5))\n",
        "plt.scatter(X[:, 0], X[:, 1], c=y, cmap='tab10')\n",
        "plt.show()"
      ],
      "execution_count": 64,
      "outputs": [
        {
          "output_type": "stream",
          "text": [
            "X shape:  (99999, 2)\n",
            "y shape:  (99999,)\n"
          ],
          "name": "stdout"
        },
        {
          "output_type": "display_data",
          "data": {
            "image/png": "[encoded data removed]",
            "text/plain": [
              "<Figure size 252x252 with 1 Axes>"
            ]
          },
          "metadata": {
            "tags": []
          }
        }
      ]
    },
    {
      "cell_type": "code",
      "metadata": {
        "id": "tLZjK8mYMnBr",
        "colab_type": "code",
        "outputId": "d89ae974-f09f-406e-d838-3881d0945450",
        "colab": {
          "base_uri": "https://localhost:8080/",
          "height": 51
        }
      },
      "source": [
        "split = int(0.8 * 100000)\n",
        "X_train, X_test = X[:split,], X[split:,]\n",
        "y_train, y_test = y[:split,], y[split:,]\n",
        "\n",
        "print(\"X_train shape: \", X_train.shape)\n",
        "print(\"X_test shape: \", X_test.shape)"
      ],
      "execution_count": 65,
      "outputs": [
        {
          "output_type": "stream",
          "text": [
            "X_train shape:  (80000, 2)\n",
            "X_test shape:  (19999, 2)\n"
          ],
          "name": "stdout"
        }
      ]
    },
    {
      "cell_type": "code",
      "metadata": {
        "id": "THCn9W-bvbUL",
        "colab_type": "code",
        "colab": {}
      },
      "source": [
        "class DataLoader:\n",
        "  def __init__(self, data, target, batch_size=10):\n",
        "    self.data = data\n",
        "    self.target = target\n",
        "    self.batch_size = batch_size\n",
        "\n",
        "  def next(self):\n",
        "    m, _ = self.data.shape\n",
        "    rand_index = np.random.choice(m, size=m)\n",
        "    X, y = self.data[rand_index], self.target[rand_index]\n",
        "    pos = 0\n",
        "    while pos < m:\n",
        "      X_batch, y_batch = X[pos:pos+self.batch_size], y[pos:pos+self.batch_size]\n",
        "      yield (X_batch, y_batch)\n",
        "      pos += self.batch_size\n",
        "\n",
        "  def __call__(self):\n",
        "    return self.next()"
      ],
      "execution_count": 0,
      "outputs": []
    },
    {
      "cell_type": "markdown",
      "metadata": {
        "id": "0FKJ78A3II6Z",
        "colab_type": "text"
      },
      "source": [
        "### Autoregressive Flow"
      ]
    },
    {
      "cell_type": "code",
      "metadata": {
        "id": "XfjZcfgpII6a",
        "colab_type": "code",
        "colab": {}
      },
      "source": [
        "class BufferedLinear(nn.Linear):\n",
        "  def __init__(self, in_features, out_features, bias=True):\n",
        "    super(BufferedLinear, self).__init__(in_features, out_features, bias=bias)\n",
        "    self.register_buffer(\"buffer\", torch.ones([out_features, in_features]).float())\n",
        "      \n",
        "  def set_buffer(self, buffer):\n",
        "    self.buffer = buffer.data\n",
        "      \n",
        "  def forward(self, x):\n",
        "    return F.linear(x, self.buffer * self.weight, self.bias)\n",
        "    \n",
        "class BaseNN(nn.Module):\n",
        "  def __init__(self, k, hidden_size):\n",
        "    super(BaseNN, self).__init__()\n",
        "    self.k = k\n",
        "    self.h = hidden_size\n",
        "    \n",
        "    buf1 = np.ones([self.h, 2], dtype=np.float32)\n",
        "    buf1[:, 1] = 0.0\n",
        "    self.linear1 = BufferedLinear(2, self.h)\n",
        "    self.linear1.set_buffer(torch.from_numpy(buf1))\n",
        "    \n",
        "    buf2 = np.ones([2 * k, self.h], dtype=np.float32)\n",
        "    buf2[:k, :] = 0.0\n",
        "    self.linear2 = BufferedLinear(self.h, 2 * k)\n",
        "    self.linear2.set_buffer(torch.from_numpy(buf2))"
      ],
      "execution_count": 0,
      "outputs": []
    },
    {
      "cell_type": "code",
      "metadata": {
        "id": "R4q6jxnre9_w",
        "colab_type": "code",
        "colab": {}
      },
      "source": [
        "class CoeffNN(BaseNN):\n",
        "  def __init__(self, k, hidden_size):\n",
        "    super().__init__(k, hidden_size)\n",
        "      \n",
        "  def forward(self, x):\n",
        "    lin1 = self.linear1(x)\n",
        "    h = F.relu(lin1)\n",
        "    lin2 = self.linear2(h)\n",
        "    lin2 = lin2.reshape([-1, 2, self.k])\n",
        "    sftmx = F.softmax(lin2, dim=2)\n",
        "    return sftmx\n",
        "    \n",
        "class MeanNN(BaseNN):\n",
        "  def __init__(self, k, hidden_size):\n",
        "    super().__init__(k, hidden_size)\n",
        "      \n",
        "  def forward(self, x):\n",
        "    lin1 = self.linear1(x)\n",
        "    h = F.relu(lin1)\n",
        "    lin2 = self.linear2(h)\n",
        "    lin2 = lin2.view([-1, 2, self.k])\n",
        "    return lin2\n",
        "    \n",
        "class VarNN(BaseNN):\n",
        "  def __init__(self, k, hidden_size):\n",
        "    super().__init__(k, hidden_size)\n",
        "      \n",
        "  def forward(self, x):\n",
        "    lin1 = self.linear1(x)\n",
        "    h = F.relu(lin1)\n",
        "    lin2 = self.linear2(h)\n",
        "    exp = torch.exp(lin2)\n",
        "    out = exp.view([-1, 2, self.k])\n",
        "    return out"
      ],
      "execution_count": 0,
      "outputs": []
    },
    {
      "cell_type": "code",
      "metadata": {
        "id": "09fMDOHPgoA0",
        "colab_type": "code",
        "colab": {}
      },
      "source": [
        "class MyModel:\n",
        "  def __init__(self, k, hidden_size):\n",
        "    self.k = k\n",
        "    self.hidden_size = hidden_size\n",
        "\n",
        "    self.coeffNN = CoeffNN(k, hidden_size).cuda()\n",
        "    self.meanNN = MeanNN(k, hidden_size).cuda()\n",
        "    self.varNN = VarNN(k, hidden_size).cuda()\n",
        "\n",
        "  def loss(self, x):\n",
        "    coeff, mean, var = self.coeffNN(x), self.meanNN(x), self.varNN(x)\n",
        "    x = x.unsqueeze(2)\n",
        "    w_dens = coeff * torch.exp(-torch.pow(x - mean, 2) / (2 * var)) / torch.sqrt(2 * np.pi * var)\n",
        "    dens = torch.sum(w_dens, dim=2)\n",
        "    return -torch.log(torch.abs(dens[:, 0] * dens[:, 1]))\n",
        "\n",
        "  def parameters(self):\n",
        "    return list(self.coeffNN.parameters()) + list(self.meanNN.parameters()) + list(self.varNN.parameters())\n",
        "\n",
        "  def density(self, x):\n",
        "    coeff, mean, var = self.coeffNN(x), self.meanNN(x), self.varNN(x)\n",
        "    x = x.unsqueeze(2)\n",
        "    w_dens = coeff * torch.exp(-torch.pow(x - mean, 2) / (2 * var)) / torch.sqrt(2 * np.pi * var)\n",
        "\n",
        "    dens = torch.sum(w_dens, dim=2)\n",
        "  \n",
        "    return torch.abs(dens[:, 0] * dens[:, 1]).detach()\n",
        "\n",
        "  def inverse(self, z):\n",
        "    z1, z2 = z[:, 0], z[:, 1]\n",
        "\n",
        "    x1 = torch.zeros(z.shape[0]).float().cuda()\n",
        "    x2 = torch.zeros(z.shape[0]).float().cuda()\n",
        "\n",
        "    coeff, mean, var = self.coeffNN(z), self.meanNN(z), self.varNN(z)\n",
        "\n",
        "    pi1, mu1, sigma1 = coeff[:, 0, :], mean[:, 0, :], var[:, 0, :]\n",
        "\n",
        "    for i in range(z.shape[0]):\n",
        "      j = np.random.choice(self.k, p=pi1[i].detach().cpu().data.numpy())\n",
        "      x1[i] = Normal(mu1[i, j], torch.sqrt(sigma1[i, j])).icdf(z1[i])\n",
        "\n",
        "    x = torch.stack((x1, x1), dim=1)\n",
        "\n",
        "    coeff, mean, var = self.coeffNN(x), self.meanNN(x), self.varNN(x)\n",
        "\n",
        "    pi2, mu2, sigma2 = coeff[:, 1, :], mean[:, 1, :], var[:, 1, :]\n",
        "    for i in range(z.shape[0]):\n",
        "      j = np.random.choice(self.k, p=pi2[i].detach().cpu().data.numpy())\n",
        "      x2[i] = Normal(mu2[i, j], torch.sqrt(sigma2[i, j])).icdf(z2[i])\n",
        "\n",
        "    return x1, x2\n",
        "\n",
        "  def latent(self, x):\n",
        "    coeff, mean, var = self.coeffNN(x), self.meanNN(x), self.varNN(x)\n",
        "    x = x.unsqueeze(2)\n",
        "    w_cdf = coeff * (torch.erf((x - mean) / torch.sqrt(2 * var)) + 1) / 2\n",
        "    cdf = torch.sum(w_cdf, dim=2)\n",
        "    return cdf"
      ],
      "execution_count": 0,
      "outputs": []
    },
    {
      "cell_type": "code",
      "metadata": {
        "id": "Jt34v-LqqmeA",
        "colab_type": "code",
        "colab": {}
      },
      "source": [
        "# Hyperparameters\n",
        "k = 10\n",
        "hidden_size = 100\n",
        "lr = 1e-3\n",
        "NUM_EPOCHS = 15\n",
        "BATCH_SIZE = 256"
      ],
      "execution_count": 0,
      "outputs": []
    },
    {
      "cell_type": "code",
      "metadata": {
        "id": "nid9S4Nvwnw1",
        "colab_type": "code",
        "outputId": "a83c25fb-c7a7-497b-db44-b83d48334e45",
        "colab": {
          "base_uri": "https://localhost:8080/",
          "height": 272
        }
      },
      "source": [
        "model = MyModel(k, hidden_size)\n",
        "optimizer = optim.Adam(model.parameters(), lr=lr)\n",
        "\n",
        "dataloader = DataLoader(np.array(X_train), np.array(y_train), batch_size=BATCH_SIZE)\n",
        "\n",
        "train_x = []\n",
        "train_losses = []\n",
        "val_x = []\n",
        "val_losses = []\n",
        "\n",
        "global_step = 0\n",
        "\n",
        "val_loss = torch.mean(model.loss(torch.from_numpy(X_test).float().cuda()).detach())\n",
        "val_loss = val_loss / (2 * np.log(2))\n",
        "val_x.append(global_step)\n",
        "val_losses.append(val_loss.item())\n",
        "\n",
        "for epoch in range(NUM_EPOCHS):\n",
        "  loss = None\n",
        "\n",
        "  for data in dataloader():\n",
        "    inputs, targets = data\n",
        "    batch = torch.from_numpy(inputs).float().cuda()\n",
        "    \n",
        "    loss = torch.mean(model.loss(batch))\n",
        "    \n",
        "    if (global_step + 1) % 300 == 0:\n",
        "      print(f\"EPOCH:{epoch + 1}/{NUM_EPOCHS}, GLOBAL_STEP:{global_step + 1} LOSS={loss.item()}\")\n",
        "\n",
        "    optimizer.zero_grad()\n",
        "    loss.backward()\n",
        "    optimizer.step()\n",
        "    \n",
        "    train_loss = loss.detach() / (2 * np.log(2))\n",
        "    train_x.append(global_step)\n",
        "    train_losses.append(train_loss.item())\n",
        "    \n",
        "    global_step += 1\n",
        "      \n",
        "  val_loss = torch.mean(model.loss(torch.from_numpy(X_test).float().cuda()).detach())\n",
        "  val_loss = val_loss / (2 * np.log(2))\n",
        "  val_x.append(global_step)\n",
        "  val_losses.append(val_loss.item())\n"
      ],
      "execution_count": 299,
      "outputs": [
        {
          "output_type": "stream",
          "text": [
            "EPOCH:1/15, GLOBAL_STEP:300 LOSS=2.3429434299468994\n",
            "EPOCH:2/15, GLOBAL_STEP:600 LOSS=2.1608400344848633\n",
            "EPOCH:3/15, GLOBAL_STEP:900 LOSS=2.044158458709717\n",
            "EPOCH:4/15, GLOBAL_STEP:1200 LOSS=1.9878547191619873\n",
            "EPOCH:5/15, GLOBAL_STEP:1500 LOSS=1.7341821193695068\n",
            "EPOCH:6/15, GLOBAL_STEP:1800 LOSS=1.6261988878250122\n",
            "EPOCH:7/15, GLOBAL_STEP:2100 LOSS=1.7112326622009277\n",
            "EPOCH:8/15, GLOBAL_STEP:2400 LOSS=1.4451266527175903\n",
            "EPOCH:9/15, GLOBAL_STEP:2700 LOSS=1.2985866069793701\n",
            "EPOCH:10/15, GLOBAL_STEP:3000 LOSS=1.3954362869262695\n",
            "EPOCH:11/15, GLOBAL_STEP:3300 LOSS=1.3431662321090698\n",
            "EPOCH:12/15, GLOBAL_STEP:3600 LOSS=1.34693443775177\n",
            "EPOCH:13/15, GLOBAL_STEP:3900 LOSS=1.3054380416870117\n",
            "EPOCH:14/15, GLOBAL_STEP:4200 LOSS=1.364678978919983\n",
            "EPOCH:15/15, GLOBAL_STEP:4500 LOSS=1.4177062511444092\n"
          ],
          "name": "stdout"
        }
      ]
    },
    {
      "cell_type": "code",
      "metadata": {
        "id": "208qCWytII6f",
        "colab_type": "code",
        "outputId": "dcb771fb-1ae1-4815-97cc-c4bb1f7c5067",
        "colab": {
          "base_uri": "https://localhost:8080/",
          "height": 296
        }
      },
      "source": [
        "plt.plot(train_x, train_losses, label=\"train\")\n",
        "plt.plot(val_x, val_losses, label=\"val\")\n",
        "plt.xlabel(\"global step\")\n",
        "plt.ylabel(\"loss\")\n",
        "plt.legend()\n",
        "plt.show()\n",
        "\n",
        "loss = torch.mean(model.loss(torch.from_numpy(X_test).float().cuda()).detach())\n",
        "bits = loss / (2 * np.log(2))\n",
        "print(f\"Final test performance: {bits.item()}\")"
      ],
      "execution_count": 300,
      "outputs": [
        {
          "output_type": "display_data",
          "data": {
            "image/png": "[encoded data removed]",
            "text/plain": [
              "<Figure size 432x288 with 1 Axes>"
            ]
          },
          "metadata": {
            "tags": []
          }
        },
        {
          "output_type": "stream",
          "text": [
            "Final test performance: 0.9656971096992493\n"
          ],
          "name": "stdout"
        }
      ]
    },
    {
      "cell_type": "code",
      "metadata": {
        "id": "kWLQassOM_lw",
        "colab_type": "code",
        "outputId": "0221e37e-26b2-4c23-d09b-64790b6d14fe",
        "colab": {
          "base_uri": "https://localhost:8080/",
          "height": 494
        }
      },
      "source": [
        "space = np.linspace(-4, 4, 100)\n",
        "\n",
        "samples = torch.from_numpy(np.array(np.meshgrid(space, space)).T.reshape([-1, 2])).float().cuda()\n",
        "pdf = model.density(samples).cpu().data.numpy().reshape(100, 100)\n",
        "\n",
        "plt.figure(figsize=(5, 5))\n",
        "plt.imshow(pdf, cmap=\"twilight\")\n",
        "plt.xticks(np.linspace(0, 100, 9), np.linspace(-4, 4, 9))\n",
        "plt.yticks(np.linspace(0, 100, 9), np.linspace(4, -4, 9))"
      ],
      "execution_count": 303,
      "outputs": [
        {
          "output_type": "execute_result",
          "data": {
            "text/plain": [
              "([<matplotlib.axis.YTick at 0x7fabefbab668>,\n",
              "  <matplotlib.axis.YTick at 0x7fabef5312e8>,\n",
              "  <matplotlib.axis.YTick at 0x7fabef4d29b0>,\n",
              "  <matplotlib.axis.YTick at 0x7fabef5e3780>,\n",
              "  <matplotlib.axis.YTick at 0x7fabef5e3630>,\n",
              "  <matplotlib.axis.YTick at 0x7fabef5ff208>,\n",
              "  <matplotlib.axis.YTick at 0x7fabef5ff710>,\n",
              "  <matplotlib.axis.YTick at 0x7fabef5e3400>,\n",
              "  <matplotlib.axis.YTick at 0x7fabef5d94a8>],\n",
              " <a list of 9 Text yticklabel objects>)"
            ]
          },
          "metadata": {
            "tags": []
          },
          "execution_count": 303
        },
        {
          "output_type": "display_data",
          "data": {
            "image/png": "[encoded data removed]",
            "text/plain": [
              "<Figure size 360x360 with 1 Axes>"
            ]
          },
          "metadata": {
            "tags": []
          }
        }
      ]
    },
    {
      "cell_type": "code",
      "metadata": {
        "id": "ypBwoP7jPQng",
        "colab_type": "code",
        "outputId": "bb3fa4b2-e382-4bf2-be93-78d62f3603a7",
        "colab": {
          "base_uri": "https://localhost:8080/",
          "height": 282
        }
      },
      "source": [
        "A = torch.tensor([0.0]).float().cuda()\n",
        "B = torch.tensor([1.0]).float().cuda()\n",
        "z = Uniform(A, B).rsample((10000, 2)).reshape(10000, 2)\n",
        "plt.figure(figsize=(4, 4))\n",
        "x1, x2 = model.inverse(z)\n",
        "x1 = x1.cpu().detach().numpy()\n",
        "x2 = x2.cpu().detach().numpy()\n",
        "plt.scatter(x1, x2)"
      ],
      "execution_count": 307,
      "outputs": [
        {
          "output_type": "execute_result",
          "data": {
            "text/plain": [
              "<matplotlib.collections.PathCollection at 0x7fabefc1f470>"
            ]
          },
          "metadata": {
            "tags": []
          },
          "execution_count": 307
        },
        {
          "output_type": "display_data",
          "data": {
            "image/png": "[encoded data removed]",
            "text/plain": [
              "<Figure size 288x288 with 1 Axes>"
            ]
          },
          "metadata": {
            "tags": []
          }
        }
      ]
    },
    {
      "cell_type": "code",
      "metadata": {
        "id": "ASgUmGIhM_bQ",
        "colab_type": "code",
        "outputId": "681e40d3-ef73-49bc-e4c7-ec1a77368507",
        "colab": {
          "base_uri": "https://localhost:8080/",
          "height": 320
        }
      },
      "source": [
        "lat = model.latent(torch.from_numpy(X).float().cuda()).data.cpu().data.numpy()\n",
        "plt.figure(figsize=(5, 5))\n",
        "plt.scatter(lat[:, 0], lat[:, 1], c=y, cmap='tab10')\n",
        "plt.show()"
      ],
      "execution_count": 308,
      "outputs": [
        {
          "output_type": "display_data",
          "data": {
            "image/png": "[encoded data removed]",
            "text/plain": [
              "<Figure size 360x360 with 1 Axes>"
            ]
          },
          "metadata": {
            "tags": []
          }
        }
      ]
    },
    {
      "cell_type": "markdown",
      "metadata": {
        "id": "ev2UBRQOFT5_",
        "colab_type": "text"
      },
      "source": [
        "### RealNVP"
      ]
    },
    {
      "cell_type": "code",
      "metadata": {
        "id": "tfEjhgkXNneM",
        "colab_type": "code",
        "colab": {}
      },
      "source": [
        "class BaseLayer(nn.Module):\n",
        "  def __init__(self, hidden_size):\n",
        "    super(BaseLayer, self).__init__()\n",
        "    self.lin1 = nn.Linear(2, hidden_size)\n",
        "    self.lin2 = nn.Linear(hidden_size, hidden_size)\n",
        "    self.lin3 = nn.Linear(hidden_size, 2)\n",
        "    self.prelu = nn.PReLU()\n",
        "\n",
        "  def forward(self,x):\n",
        "    lin1 = self.lin1(x)\n",
        "    relu = torch.relu(lin1)\n",
        "    lin2 = self.lin2(relu)\n",
        "    relu = torch.relu(lin2)\n",
        "    z = self.lin3(relu)\n",
        "    a = torch.tanh(z[:,0])\n",
        "    b = self.prelu(z[:,1])\n",
        "    y = torch.stack([a, b])\n",
        "    return y.permute(1, 0)"
      ],
      "execution_count": 0,
      "outputs": []
    },
    {
      "cell_type": "code",
      "metadata": {
        "id": "jH2Iq9oCL58X",
        "colab_type": "code",
        "colab": {}
      },
      "source": [
        "class CouplingLayer(nn.Module):\n",
        "  def __init__(self, hidden_size, mask):\n",
        "    super(CouplingLayer, self).__init__()\n",
        "    self.s = BaseLayer(hidden_size).cuda()\n",
        "    self.mask = mask.bool()\n",
        "\n",
        "  def forward(self, x):\n",
        "    a = self.s(x * self.mask)\n",
        "    mask = self.mask.repeat(x.shape[0], 1)\n",
        "    y1 = x[~mask] * torch.exp(a[:, 0]) + a[:, 1]\n",
        "\n",
        "    if(self.mask[0]):\n",
        "      y = torch.stack([x[mask], y1])\n",
        "    else:\n",
        "      y = torch.stack([y1, x[mask]])\n",
        "\n",
        "    return (y.permute(1, 0), a[:, 0])\n",
        "\n",
        "  def inverse(self, x):\n",
        "    a = self.s(x * self.mask)\n",
        "    mask = self.mask.repeat(x.shape[0], 1)\n",
        "    y1 = (x[~mask] - a[:, 1]) * torch.exp(-a[:, 0])\n",
        "\n",
        "    if(self.mask[0]):\n",
        "      y = torch.stack([x[mask], y1])\n",
        "    else:\n",
        "      y = torch.stack([y1, x[mask]])\n",
        "\n",
        "    return y.permute(1, 0)"
      ],
      "execution_count": 0,
      "outputs": []
    },
    {
      "cell_type": "code",
      "metadata": {
        "id": "pUCVz7QIL9is",
        "colab_type": "code",
        "colab": {}
      },
      "source": [
        "class RealNVP(nn.Module):\n",
        "  def __init__(self, hidden_size, k):\n",
        "    super(RealNVP, self).__init__()\n",
        "    self.k = k\n",
        "    mask = torch.tensor([[1,0], [0,1]] * k, dtype=bool).float().cuda()\n",
        "    self.coupling_layers = [CouplingLayer(hidden_size, mask[i]).cuda() for i in range(k)]\n",
        "\n",
        "  def forward(self,x):\n",
        "    cs = []\n",
        "\n",
        "    for i in range(self.k):\n",
        "      x, c = self.coupling_layers[i](x)\n",
        "      cs.append(c)\n",
        "\n",
        "    y = torch.sigmoid(x)\n",
        "    return y, x, cs\n",
        "\n",
        "  def density(self, x):\n",
        "    log_prob = torch.zeros((x.shape[0], 1)).cuda()\n",
        "    z = x\n",
        "\n",
        "    for i in range(self.k):\n",
        "      log_prob += self.coupling_layers[i](z)[1].unsqueeze(1)\n",
        "      z = self.coupling_layers[i].forward(z)[0]\n",
        "\n",
        "    z = torch.sigmoid(z)\n",
        "    log_prob += torch.log(z * (1 - z) + 1e-9).sum(dim=1).view(-1, 1)\n",
        "\n",
        "    return log_prob.exp()\n",
        "\n",
        "  def parameters(self):\n",
        "    params = []\n",
        "    for i in range(self.k):\n",
        "      params += list(self.coupling_layers[i].parameters())\n",
        "    return params\n",
        "\n",
        "  def inverse(self, y):\n",
        "    y = torch.log(y / (1 - y))\n",
        "    inv = y\n",
        "\n",
        "    for i in range(self.k - 1, -1, -1):\n",
        "      #print(i)\n",
        "      inv = self.coupling_layers[i].inverse(inv)\n",
        "\n",
        "    return inv"
      ],
      "execution_count": 0,
      "outputs": []
    },
    {
      "cell_type": "code",
      "metadata": {
        "id": "3GWz6iLCMC7A",
        "colab_type": "code",
        "colab": {}
      },
      "source": [
        "def loss_func(x, cs):\n",
        "  loss = 2 * torch.sum(F.logsigmoid(x)) - torch.sum(x)\n",
        "  for c in cs:\n",
        "    loss += torch.sum(c)\n",
        "  return -loss"
      ],
      "execution_count": 0,
      "outputs": []
    },
    {
      "cell_type": "code",
      "metadata": {
        "id": "9YS6SDWInoPr",
        "colab_type": "code",
        "colab": {}
      },
      "source": [
        "# Hyperparameters\n",
        "k = 4\n",
        "hidden_size = 10\n",
        "lr = 1e-2\n",
        "NUM_EPOCHS = 15\n",
        "BATCH_SIZE = 512"
      ],
      "execution_count": 0,
      "outputs": []
    },
    {
      "cell_type": "code",
      "metadata": {
        "id": "Umvpw0AbnQ7E",
        "colab_type": "code",
        "colab": {
          "base_uri": "https://localhost:8080/",
          "height": 136
        },
        "outputId": "90e13df9-f203-462c-99b1-9b4429979544"
      },
      "source": [
        "model = RealNVP(hidden_size, k)\n",
        "optimizer = optim.Adam(model.parameters(), lr=lr)\n",
        "\n",
        "dataloader = DataLoader(np.array(X_train), np.array(y_train), batch_size=BATCH_SIZE)\n",
        "\n",
        "train_x = []\n",
        "train_losses = []\n",
        "val_x = []\n",
        "val_losses = []\n",
        "\n",
        "global_step = 0\n",
        "\n",
        "_, z1, cs = model(torch.from_numpy(X_test).float().cuda())\n",
        "val_loss = loss_func(z1, cs) / X_test.shape[0]\n",
        "val_loss = val_loss / (2 * np.log(2))\n",
        "val_x.append(global_step)\n",
        "val_losses.append(val_loss.item())\n",
        "\n",
        "for epoch in range(NUM_EPOCHS):\n",
        "  loss = None\n",
        "\n",
        "  for data in dataloader():\n",
        "    inputs, targets = data\n",
        "    batch = torch.from_numpy(inputs).float().cuda()\n",
        "    \n",
        "    _, z1, cs = model(batch)\n",
        "    loss = loss_func(z1, cs) / batch.shape[0]\n",
        "    \n",
        "    if (global_step + 1) % 300 == 0:\n",
        "      print(f\"EPOCH:{epoch + 1}/{NUM_EPOCHS}, GLOBAL_STEP:{global_step + 1} LOSS={loss.item()}\")\n",
        "\n",
        "    optimizer.zero_grad()\n",
        "    loss.backward()\n",
        "    optimizer.step()\n",
        "    \n",
        "    train_loss = loss.detach() / (2 * np.log(2))\n",
        "    train_x.append(global_step)\n",
        "    train_losses.append(train_loss.item())\n",
        "    \n",
        "    global_step += 1\n",
        "      \n",
        "  _, z1, cs = model(torch.from_numpy(X_test).float().cuda())\n",
        "  val_loss = loss_func(z1, cs) / X_test.shape[0]\n",
        "  val_loss = val_loss / (2 * np.log(2))\n",
        "  val_x.append(global_step)\n",
        "  val_losses.append(val_loss.item())"
      ],
      "execution_count": 175,
      "outputs": [
        {
          "output_type": "stream",
          "text": [
            "EPOCH:2/15, GLOBAL_STEP:300 LOSS=1.75252366065979\n",
            "EPOCH:4/15, GLOBAL_STEP:600 LOSS=1.491097092628479\n",
            "EPOCH:6/15, GLOBAL_STEP:900 LOSS=1.5552568435668945\n",
            "EPOCH:8/15, GLOBAL_STEP:1200 LOSS=1.4580063819885254\n",
            "EPOCH:10/15, GLOBAL_STEP:1500 LOSS=1.4599018096923828\n",
            "EPOCH:12/15, GLOBAL_STEP:1800 LOSS=1.5318081378936768\n",
            "EPOCH:14/15, GLOBAL_STEP:2100 LOSS=1.5247092247009277\n"
          ],
          "name": "stdout"
        }
      ]
    },
    {
      "cell_type": "code",
      "metadata": {
        "id": "3NW8NKpGq_NU",
        "colab_type": "code",
        "colab": {
          "base_uri": "https://localhost:8080/",
          "height": 296
        },
        "outputId": "ebc6b24d-9706-4e2c-eadf-6e0310c36522"
      },
      "source": [
        "plt.plot(train_x, train_losses, label=\"train\")\n",
        "plt.plot(val_x, val_losses, label=\"val\")\n",
        "plt.xlabel(\"global step\")\n",
        "plt.ylabel(\"loss\")\n",
        "plt.legend()\n",
        "plt.show()\n",
        "\n",
        "_, z1, cs = model(torch.from_numpy(X_test).float().cuda())\n",
        "val_loss = loss_func(z1, cs) / X_test.shape[0]\n",
        "val_loss = val_loss / (2 * np.log(2))\n",
        "print(f\"Final test performance: {val_loss.item()}\")"
      ],
      "execution_count": 176,
      "outputs": [
        {
          "output_type": "display_data",
          "data": {
            "image/png": "[encoded data removed]",
            "text/plain": [
              "<Figure size 432x288 with 1 Axes>"
            ]
          },
          "metadata": {
            "tags": []
          }
        },
        {
          "output_type": "stream",
          "text": [
            "Final test performance: 1.0869985818862915\n"
          ],
          "name": "stdout"
        }
      ]
    },
    {
      "cell_type": "code",
      "metadata": {
        "id": "Mj0DdXssSbQo",
        "colab_type": "code",
        "colab": {
          "base_uri": "https://localhost:8080/",
          "height": 322
        },
        "outputId": "8265a503-eaf0-4d2c-8183-3ad0667266e1"
      },
      "source": [
        "d = np.linspace(-4, 4, 100)\n",
        "plt.figure(figsize=(5, 5))\n",
        "samples = np.array(np.meshgrid(d, d)).T.reshape([-1, 2])\n",
        "samples = torch.from_numpy(samples).float().cuda()\n",
        "pdf = model.density(samples).cpu().detach().numpy().reshape(100, 100)\n",
        "plt.imshow(pdf, cmap=\"twilight\")\n",
        "plt.show()"
      ],
      "execution_count": 182,
      "outputs": [
        {
          "output_type": "display_data",
          "data": {
            "image/png": "[encoded data removed]",
            "text/plain": [
              "<Figure size 360x360 with 1 Axes>"
            ]
          },
          "metadata": {
            "tags": []
          }
        }
      ]
    },
    {
      "cell_type": "code",
      "metadata": {
        "id": "jRV-l4twSbK7",
        "colab_type": "code",
        "colab": {
          "base_uri": "https://localhost:8080/",
          "height": 333
        },
        "outputId": "baa566f3-1e3f-4393-8e85-1d9450678fcc"
      },
      "source": [
        "data = torch.FloatTensor(1000, 2).cuda().uniform_(0,1)\n",
        "data_np = data.data.cpu().data.numpy()\n",
        "smpl = model.inverse(data)\n",
        "\n",
        "plt.figure(figsize=(4, 4))\n",
        "data_np = smpl.detach().data.cpu().data.numpy()\n",
        "plt.scatter(data_np[:, 0], data_np[:, 1])\n",
        "plt.show()"
      ],
      "execution_count": 186,
      "outputs": [
        {
          "output_type": "stream",
          "text": [
            "3\n",
            "2\n",
            "1\n",
            "0\n"
          ],
          "name": "stdout"
        },
        {
          "output_type": "display_data",
          "data": {
            "image/png": "[encoded data removed]",
            "text/plain": [
              "<Figure size 288x288 with 1 Axes>"
            ]
          },
          "metadata": {
            "tags": []
          }
        }
      ]
    },
    {
      "cell_type": "code",
      "metadata": {
        "id": "XKKt0J9nSbBd",
        "colab_type": "code",
        "colab": {
          "base_uri": "https://localhost:8080/",
          "height": 320
        },
        "outputId": "a28351f8-bf7f-4c6d-d60b-2444a414835d"
      },
      "source": [
        "z2, z1, cs = model(torch.from_numpy(X).float().cuda())\n",
        "res = z2.detach().data.cpu().data.numpy()\n",
        "plt.figure(figsize=(5, 5))\n",
        "plt.scatter(res[:, 0], res[:, 1], c=y, cmap=\"tab10\")\n",
        "plt.show()"
      ],
      "execution_count": 187,
      "outputs": [
        {
          "output_type": "display_data",
          "data": {
            "image/png": "[encoded data removed]",
            "text/plain": [
              "<Figure size 360x360 with 1 Axes>"
            ]
          },
          "metadata": {
            "tags": []
          }
        }
      ]
    },
    {
      "cell_type": "code",
      "metadata": {
        "id": "lv7Cb6EXSbUa",
        "colab_type": "code",
        "colab": {}
      },
      "source": [
        ""
      ],
      "execution_count": 0,
      "outputs": []
    }
  ]
}