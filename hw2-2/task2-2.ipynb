{
 "cells": [
  {
   "cell_type": "code",
   "execution_count": 1,
   "metadata": {},
   "outputs": [
    {
     "name": "stdout",
     "output_type": "stream",
     "text": [
      "Requirement already satisfied: tqdm in /usr/local/lib/python3.6/dist-packages (4.40.1)\n",
      "\u001b[33mWARNING: You are using pip version 19.2.1, however version 19.3.1 is available.\n",
      "You should consider upgrading via the 'pip install --upgrade pip' command.\u001b[0m\n"
     ]
    }
   ],
   "source": [
    "! pip install tqdm"
   ]
  },
  {
   "cell_type": "code",
   "execution_count": 1,
   "metadata": {
    "colab": {},
    "colab_type": "code",
    "id": "n3nWFjhaZASS"
   },
   "outputs": [],
   "source": [
    "import torch\n",
    "import torch.distributions\n",
    "import torch.nn as nn\n",
    "from tqdm.auto import tqdm\n",
    "from torch.distributions import Normal, MultivariateNormal, Uniform\n",
    "import torch.nn.functional as F\n",
    "from torch.autograd import Variable\n",
    "import pickle as pkl\n",
    "import torch.optim as optim\n",
    "from matplotlib import pyplot as plt\n",
    "import torch\n",
    "import numpy as np\n",
    "import matplotlib\n",
    "from sklearn.model_selection import train_test_split\n",
    "import random\n",
    "import os\n",
    "from torch.utils.data import DataLoader\n",
    "import torchvision\n",
    "import matplotlib.pyplot as plt\n",
    "from torchvision import transforms"
   ]
  },
  {
   "cell_type": "code",
   "execution_count": 2,
   "metadata": {
    "colab": {
     "base_uri": "https://localhost:8080/",
     "height": 34
    },
    "colab_type": "code",
    "id": "m6c7zlYg-D9v",
    "outputId": "70984d37-3ec6-4840-da97-a40c788c4e2e"
   },
   "outputs": [
    {
     "data": {
      "text/plain": [
       "device(type='cuda')"
      ]
     },
     "execution_count": 2,
     "metadata": {},
     "output_type": "execute_result"
    }
   ],
   "source": [
    "DEVICE = torch.device('cuda' if torch.cuda.is_available() else 'cpu')\n",
    "DEVICE"
   ]
  },
  {
   "cell_type": "code",
   "execution_count": 3,
   "metadata": {},
   "outputs": [],
   "source": [
    "#seed = 1\n",
    "#np.random.seed(seed)\n",
    "#torch.manual_seed(seed)"
   ]
  },
  {
   "cell_type": "code",
   "execution_count": 4,
   "metadata": {},
   "outputs": [],
   "source": [
    "EPS = 1e-6"
   ]
  },
  {
   "cell_type": "code",
   "execution_count": 5,
   "metadata": {
    "colab": {},
    "colab_type": "code",
    "id": "yPH0bzmh-d_j"
   },
   "outputs": [],
   "source": [
    "file = open('hw2_q2.pkl', 'rb')\n",
    "images = pkl.load(file)"
   ]
  },
  {
   "cell_type": "code",
   "execution_count": 6,
   "metadata": {
    "colab": {},
    "colab_type": "code",
    "id": "J0OVr2b0-eFO"
   },
   "outputs": [],
   "source": [
    "x_train = np.transpose(images['train'], [0, 3, 1, 2])\n",
    "x_test = np.transpose(images['test'], [0, 3, 1, 2])"
   ]
  },
  {
   "cell_type": "code",
   "execution_count": 7,
   "metadata": {
    "colab": {
     "base_uri": "https://localhost:8080/",
     "height": 34
    },
    "colab_type": "code",
    "id": "r_Oj2hqFETtx",
    "outputId": "cb2886c0-693a-4d76-af77-ee22660fa210"
   },
   "outputs": [
    {
     "data": {
      "text/plain": [
       "((20000, 3, 32, 32), (6838, 3, 32, 32))"
      ]
     },
     "execution_count": 7,
     "metadata": {},
     "output_type": "execute_result"
    }
   ],
   "source": [
    "x_train.shape, x_test.shape"
   ]
  },
  {
   "cell_type": "code",
   "execution_count": 47,
   "metadata": {
    "colab": {},
    "colab_type": "code",
    "id": "2feXp7BD-ECc"
   },
   "outputs": [],
   "source": [
    "class ResBlock(nn.Module):\n",
    "    def __init__(self, in_num, filts_num=32):\n",
    "        super(ResBlock, self).__init__()\n",
    "        self.conv1 = nn.Conv2d(in_num, filts_num, (1, 1))\n",
    "        self.conv2 = nn.Conv2d(filts_num, filts_num, (3, 3), padding=1)\n",
    "        self.conv3 = nn.Conv2d(filts_num, in_num, (1, 1))\n",
    "        \n",
    "    def forward(self, x):\n",
    "        c1 = self.conv1(x)\n",
    "        r = torch.relu(c1)\n",
    "        c2 = self.conv2(r)\n",
    "        r = torch.relu(c2)\n",
    "        c3 = self.conv3(r)\n",
    "        return x + c3"
   ]
  },
  {
   "cell_type": "code",
   "execution_count": 48,
   "metadata": {
    "colab": {},
    "colab_type": "code",
    "id": "rgSCYSpYLbGa"
   },
   "outputs": [],
   "source": [
    "class ResNet(nn.Module):\n",
    "    def __init__(self, in_num=3, filts_num=32, blocks_num=4):\n",
    "        super(ResNet, self).__init__()\n",
    "        out_num = in_num * 2        \n",
    "        self.conv1 = nn.Conv2d(in_num, filts_num, (3, 3), padding=1)\n",
    "        self.conv2 = nn.Conv2d(filts_num, out_num, (3, 3), padding=1)\n",
    "        self.blocks = nn.ModuleList()\n",
    "        for i in range(blocks_num):\n",
    "            self.blocks.append(ResBlock(filts_num, filts_num))\n",
    "        \n",
    "    def forward(self, x):\n",
    "        h = self.conv1(x)\n",
    "        for block in self.blocks:\n",
    "            h = block(h)\n",
    "        relu = torch.relu(h)\n",
    "        out = self.conv2(relu)\n",
    "        return out"
   ]
  },
  {
   "cell_type": "code",
   "execution_count": 49,
   "metadata": {
    "colab": {},
    "colab_type": "code",
    "id": "l-X9cSYn-EHt"
   },
   "outputs": [],
   "source": [
    "class CouplingLayer(nn.Module):\n",
    "    def __init__(self, c=3, h=32, w=32, filts_num=32, blocks_num=4, mask=None):\n",
    "        super(CouplingLayer, self).__init__()\n",
    "        self.register_buffer(\"mask\", torch.ones([1, c, h, w], dtype=torch.float32))\n",
    "        self.mask.data.copy_(mask)\n",
    "        self.res_net = ResNet(c, filts_num, blocks_num)\n",
    "    \n",
    "    def forward(self, x, rev=False):\n",
    "        z = self.mask * x\n",
    "        resnet = self.res_net(z)\n",
    "        log_s, t = torch.split(resnet, z.shape[1], dim=1)\n",
    "        log_s = torch.tanh(log_s)\n",
    "        \n",
    "        if rev:\n",
    "            z = z + (1.0 - self.mask) * (x - t) / torch.exp(log_s)\n",
    "            return z\n",
    "        else:\n",
    "            z = z + (1.0 - self.mask) * (torch.exp(log_s) * x + t)\n",
    "            fl = torch.flatten(log_s * (1.0 - self.mask), start_dim=1)\n",
    "            logdet = torch.sum(fl, dim=1, keepdim=True)\n",
    "            return z, logdet"
   ]
  },
  {
   "cell_type": "code",
   "execution_count": 50,
   "metadata": {
    "colab": {},
    "colab_type": "code",
    "id": "QSn8KFjB-EPy"
   },
   "outputs": [],
   "source": [
    "class ActNorm(nn.Module):\n",
    "    def __init__(self, c, h, w):\n",
    "        super(ActNorm, self).__init__()\n",
    "        self.register_parameter(\"s\", nn.Parameter(torch.ones([1, c, h, w])))\n",
    "        self.register_parameter(\"b\", nn.Parameter(torch.zeros([1, c, h, w])))\n",
    "        \n",
    "    def initialize(self, x):\n",
    "        std = torch.std(x, dim=0, keepdim=True)\n",
    "        self.s.data.copy_(1.0 / std)\n",
    "        self.b.data.copy_(-torch.mean(x * self.s, dim=0, keepdim=True))\n",
    "        \n",
    "    def forward(self, x, rev=False):\n",
    "        if rev:\n",
    "            out = (x - self.b) / self.s\n",
    "            return out\n",
    "        else:\n",
    "            lg = torch.log(torch.abs(self.s) + 1e-6)\n",
    "            fl = torch.flatten(lg, start_dim=1)\n",
    "            logdet = torch.sum(fl, dim=1, keepdim=True)\n",
    "            out = x * self.s + self.b\n",
    "            return out, logdet"
   ]
  },
  {
   "cell_type": "code",
   "execution_count": 51,
   "metadata": {
    "colab": {},
    "colab_type": "code",
    "id": "4agjKoch-eHg"
   },
   "outputs": [],
   "source": [
    "def preprocess(x, alpha=0.05, rev=False):\n",
    "    def logit(x, rev=False):\n",
    "        if rev:\n",
    "            return torch.exp(x) / (torch.exp(x) + 1.0)\n",
    "        else:    \n",
    "            t = torch.abs(1.0 / x + 1.0 / (1.0 - x))\n",
    "            logdet = torch.log(t.flatten(start_dim=1) + EPS).sum(dim=1, keepdim=True)\n",
    "            return torch.log(x) - torch.log(1.0 - x), logdet\n",
    "    def dq(x, alpha=0.05, rev=False):\n",
    "        if rev:\n",
    "            return 4.0 * (x - alpha) / (1.0 - alpha)\n",
    "        else:\n",
    "            t = torch.ones_like(x) * (1.0 - alpha) / 4.0\n",
    "            logdet = torch.log(torch.abs(t.flatten(start_dim=1))).sum(dim=1, keepdim=True)\n",
    "            return alpha + (1.0 - alpha) * x / 4.0, logdet\n",
    "    \n",
    "    if rev:\n",
    "        return dq(logit(x, rev), alpha, rev)\n",
    "    else:\n",
    "        deq, logdet1 = dq(x, alpha, rev)\n",
    "        z, logdet2 = logit(deq, rev)\n",
    "        return z, logdet1 + logdet2"
   ]
  },
  {
   "cell_type": "code",
   "execution_count": 52,
   "metadata": {},
   "outputs": [],
   "source": [
    "def squeeze(x):\n",
    "    n, c, h, w = x.shape\n",
    "    return F.unfold(x, (2, 2), stride=2).reshape([n, 4 * c, h // 2, w // 2])\n",
    "\n",
    "def unsqueeze(x):\n",
    "    n, c, h, w = x.shape\n",
    "    return F.fold(x.reshape([n, c, -1]), (h * 2, w * 2), (2, 2), stride=2)"
   ]
  },
  {
   "cell_type": "code",
   "execution_count": 53,
   "metadata": {
    "colab": {},
    "colab_type": "code",
    "id": "_UEz08DI-ETH"
   },
   "outputs": [],
   "source": [
    "class RealNVP(nn.Module):    \n",
    "    def __init__(self):\n",
    "        super(RealNVP, self).__init__()\n",
    "        self.layers1 = nn.ModuleList()\n",
    "        mask = self.build_checkerboard_mask(3, 32, 32)\n",
    "        for _ in range(4):\n",
    "            self.layers1.append(CouplingLayer(3, 32, 32, mask=mask))\n",
    "            self.layers1.append(ActNorm(3, 32, 32))\n",
    "            mask = 1.0 - mask\n",
    "        \n",
    "        self.layers2 = nn.ModuleList()\n",
    "        mask = self.build_channel_split_mask(12, 16, 16)\n",
    "        for _ in range(3):\n",
    "            self.layers2.append(CouplingLayer(12, 16, 16, mask=mask))\n",
    "            self.layers2.append(ActNorm(12, 16, 16))\n",
    "            mask = 1.0 - mask\n",
    "        \n",
    "        self.layers3 = nn.ModuleList()\n",
    "        mask = self.build_checkerboard_mask(12, 16, 16)\n",
    "        for _ in range(3):\n",
    "            self.layers3.append(CouplingLayer(12, 16, 16, mask=mask))\n",
    "            self.layers3.append(ActNorm(12, 16, 16))\n",
    "            mask = 1.0 - mask\n",
    "            \n",
    "        self.layers4 = nn.ModuleList()\n",
    "        mask = self.build_channel_split_mask(48, 8, 8)\n",
    "        for _ in range(3):\n",
    "            self.layers4.append(CouplingLayer(48, 8, 8, mask=mask))\n",
    "            self.layers4.append(ActNorm(48, 8, 8))\n",
    "            mask = 1.0 - mask\n",
    "            \n",
    "        self.layers5 = nn.ModuleList()\n",
    "        mask = self.build_checkerboard_mask(48, 8, 8)\n",
    "        for i in range(3):\n",
    "            self.layers5.append(CouplingLayer(48, 8, 8, mask=mask))\n",
    "            self.layers5.append(ActNorm(48, 8, 8))\n",
    "            mask = 1.0 - mask\n",
    "            \n",
    "    def forward(self, x, rev=False):\n",
    "        if not rev:\n",
    "            x, logdet = preprocess(x)\n",
    "            for layer in self.layers1:\n",
    "                x, cur_logdet = layer(x)\n",
    "                logdet = logdet + cur_logdet\n",
    "                \n",
    "            x = squeeze(x)\n",
    "            for layer in self.layers2:\n",
    "                x, cur_logdet = layer(x)\n",
    "                logdet = logdet + cur_logdet\n",
    "            for layer in self.layers3:\n",
    "                x, cur_logdet = layer(x)\n",
    "                logdet = logdet + cur_logdet\n",
    "\n",
    "            x = squeeze(x)\n",
    "            for layer in self.layers4:\n",
    "                x, cur_logdet = layer(x)\n",
    "                logdet = logdet + cur_logdet\n",
    "            for layer in self.layers5:\n",
    "                x, cur_logdet = layer(x)\n",
    "                logdet = logdet + cur_logdet\n",
    "\n",
    "            x = unsqueeze(x)\n",
    "            x = unsqueeze(x)\n",
    "            return x, logdet\n",
    "        else:\n",
    "            x = squeeze(x)\n",
    "            x = squeeze(x)\n",
    "            for layer in reversed(self.layers5):\n",
    "                x = layer(x, rev=rev)\n",
    "            for layer in reversed(self.layers4):\n",
    "                x = layer(x, rev=rev)\n",
    "            x = unsqueeze(x)\n",
    "            for layer in reversed(self.layers3):\n",
    "                x = layer(x, rev=rev)\n",
    "            for layer in reversed(self.layers2):\n",
    "                x = layer(x, rev=rev)\n",
    "            x = unsqueeze(x)\n",
    "            for layer in reversed(self.layers1):\n",
    "                x = layer(x, rev=rev)\n",
    "            x = preprocess(x, rev=rev)\n",
    "            return x\n",
    "        \n",
    "    def build_checkerboard_mask(self, c, h, w):\n",
    "        a = np.ones([1, c, h, w], dtype=np.bool)\n",
    "        b = np.ones([1, c, h, w], dtype=np.bool)\n",
    "        even_idx = np.arange(0, w, 2)\n",
    "        odd_idx = np.arange(1, h, 2)\n",
    "        a[:, :, odd_idx, :] = False \n",
    "        b[:, :, :, even_idx] = False\n",
    "        return torch.from_numpy(a ^ b).float()\n",
    "    \n",
    "    def build_channel_split_mask(self, c, h, w):\n",
    "        mask = torch.zeros([1, c, h, w], dtype=torch.float32)\n",
    "        idx = [[4 * i, 4 * i + 1] for i in range(c // 4)]\n",
    "        idx = np.array(idx).reshape(-1)\n",
    "        mask[:, idx, :, :] = 1.0\n",
    "        return mask\n",
    "\n",
    "    def initialize(self, x):\n",
    "        with torch.no_grad():\n",
    "            x, _ = preprocess(x)\n",
    "            for layer in self.layers1:\n",
    "                if isinstance(layer, ActNorm):\n",
    "                    layer.initialize(x)\n",
    "                x, _ = layer(x)    \n",
    "                \n",
    "            x = squeeze(x)\n",
    "            for layer in self.layers2:\n",
    "                if isinstance(layer, ActNorm):\n",
    "                    layer.initialize(x)\n",
    "                x,  _ = layer(x)\n",
    "            for layer in self.layers3:\n",
    "                if isinstance(layer, ActNorm):\n",
    "                    layer.initialize(x)\n",
    "                x, _ = layer(x)\n",
    "                \n",
    "            x = squeeze(x)\n",
    "            for layer in self.layers4:\n",
    "                if isinstance(layer, ActNorm):\n",
    "                    layer.initialize(x)\n",
    "                x, _ = layer(x)\n",
    "            for layer in self.layers5:\n",
    "                if isinstance(layer, ActNorm):\n",
    "                    layer.initialize(x)\n",
    "                x, _ = layer(x)"
   ]
  },
  {
   "cell_type": "code",
   "execution_count": 54,
   "metadata": {},
   "outputs": [],
   "source": [
    "def NLL_loss(z, logdet):\n",
    "    m = torch.distributions.normal.Normal(0, 1)\n",
    "    log_pz = m.log_prob(z) \n",
    "    log_pz = torch.sum(torch.flatten(log_pz, start_dim=1), dim=1, keepdim=True)\n",
    "    nll = -(log_pz + logdet)\n",
    "    return nll"
   ]
  },
  {
   "cell_type": "code",
   "execution_count": 55,
   "metadata": {},
   "outputs": [],
   "source": [
    "BATCH_SIZE = 64\n",
    "NUM_EPOCHS = 100\n",
    "LR = 1e-3"
   ]
  },
  {
   "cell_type": "code",
   "execution_count": 57,
   "metadata": {
    "colab": {
     "base_uri": "https://localhost:8080/",
     "height": 426
    },
    "colab_type": "code",
    "id": "E7dewpCX-EWh",
    "outputId": "e217e9d1-7267-4cf3-ad66-4421824eadbc"
   },
   "outputs": [
    {
     "name": "stdout",
     "output_type": "stream",
     "text": [
      "Epoch 1/100 Iter 1: Loss: 266875.25\n",
      "Epoch 1/100 Iter 11: Loss: 120871.0703125\n",
      "Epoch 1/100 Iter 21: Loss: 79076.328125\n",
      "Epoch 1/100 Iter 31: Loss: 48974.45703125\n",
      "Epoch 1/100 Iter 41: Loss: 26647.578125\n",
      "Epoch 1/100 Iter 51: Loss: 25669.91015625\n",
      "Epoch 1/100 Iter 61: Loss: 11327.111328125\n"
     ]
    },
    {
     "ename": "KeyboardInterrupt",
     "evalue": "",
     "output_type": "error",
     "traceback": [
      "\u001b[0;31m---------------------------------------------------------------------------\u001b[0m",
      "\u001b[0;31mKeyboardInterrupt\u001b[0m                         Traceback (most recent call last)",
      "\u001b[0;32m<ipython-input-57-ecde52151b90>\u001b[0m in \u001b[0;36m<module>\u001b[0;34m\u001b[0m\n\u001b[1;32m     41\u001b[0m                 \u001b[0;32mwhile\u001b[0m \u001b[0mstart_idx\u001b[0m \u001b[0;34m<\u001b[0m \u001b[0mval_size\u001b[0m\u001b[0;34m:\u001b[0m\u001b[0;34m\u001b[0m\u001b[0;34m\u001b[0m\u001b[0m\n\u001b[1;32m     42\u001b[0m                     \u001b[0mend_idx\u001b[0m \u001b[0;34m=\u001b[0m \u001b[0mmin\u001b[0m\u001b[0;34m(\u001b[0m\u001b[0mval_size\u001b[0m\u001b[0;34m,\u001b[0m \u001b[0mstart_idx\u001b[0m \u001b[0;34m+\u001b[0m \u001b[0mBATCH_SIZE\u001b[0m\u001b[0;34m)\u001b[0m\u001b[0;34m\u001b[0m\u001b[0;34m\u001b[0m\u001b[0m\n\u001b[0;32m---> 43\u001b[0;31m                     \u001b[0mval_z\u001b[0m\u001b[0;34m,\u001b[0m \u001b[0mval_logdet\u001b[0m \u001b[0;34m=\u001b[0m \u001b[0mnet\u001b[0m\u001b[0;34m(\u001b[0m\u001b[0mtorch\u001b[0m\u001b[0;34m.\u001b[0m\u001b[0mfrom_numpy\u001b[0m\u001b[0;34m(\u001b[0m\u001b[0mx_test\u001b[0m\u001b[0;34m[\u001b[0m\u001b[0mstart_idx\u001b[0m\u001b[0;34m:\u001b[0m\u001b[0mend_idx\u001b[0m\u001b[0;34m]\u001b[0m\u001b[0;34m)\u001b[0m\u001b[0;34m.\u001b[0m\u001b[0mfloat\u001b[0m\u001b[0;34m(\u001b[0m\u001b[0;34m)\u001b[0m\u001b[0;34m.\u001b[0m\u001b[0mcuda\u001b[0m\u001b[0;34m(\u001b[0m\u001b[0;34m)\u001b[0m\u001b[0;34m)\u001b[0m\u001b[0;34m\u001b[0m\u001b[0;34m\u001b[0m\u001b[0m\n\u001b[0m\u001b[1;32m     44\u001b[0m                     \u001b[0mval_nll\u001b[0m \u001b[0;34m=\u001b[0m \u001b[0mval_nll\u001b[0m \u001b[0;34m+\u001b[0m \u001b[0mtorch\u001b[0m\u001b[0;34m.\u001b[0m\u001b[0msum\u001b[0m\u001b[0;34m(\u001b[0m\u001b[0mNLL_loss\u001b[0m\u001b[0;34m(\u001b[0m\u001b[0mval_z\u001b[0m\u001b[0;34m,\u001b[0m \u001b[0mval_logdet\u001b[0m\u001b[0;34m)\u001b[0m\u001b[0;34m)\u001b[0m\u001b[0;34m\u001b[0m\u001b[0;34m\u001b[0m\u001b[0m\n\u001b[1;32m     45\u001b[0m                     \u001b[0mstart_idx\u001b[0m \u001b[0;34m+=\u001b[0m \u001b[0mBATCH_SIZE\u001b[0m\u001b[0;34m\u001b[0m\u001b[0;34m\u001b[0m\u001b[0m\n",
      "\u001b[0;31mKeyboardInterrupt\u001b[0m: "
     ]
    }
   ],
   "source": [
    "dataloader = torch.utils.data.DataLoader(x_train, batch_size=BATCH_SIZE, shuffle=True)\n",
    "\n",
    "val_steps = 30\n",
    "logs = {}\n",
    "\n",
    "net = RealNVP().cuda()\n",
    "opt = optim.Adam(net.parameters(), lr=LR)\n",
    "\n",
    "val_step = []\n",
    "train_log = []\n",
    "val_log = []\n",
    "global_step = 0\n",
    "\n",
    "sample_idx = np.random.choice(np.arange(0, x_train.shape[0]), 128)\n",
    "init_batch = torch.from_numpy(x_train[sample_idx]).float().cuda()\n",
    "net.initialize(init_batch)\n",
    "\n",
    "for epoch in range(NUM_EPOCHS):\n",
    "    for batch in dataloader:\n",
    "        global_step += 1\n",
    "        \n",
    "        batch = batch.float().cuda()\n",
    "        z, logdet = net(batch)\n",
    "        nll = NLL_loss(z, logdet)\n",
    "        loss = torch.sum(nll, dim=0)\n",
    "        \n",
    "        opt.zero_grad()\n",
    "        loss.backward()\n",
    "        opt.step()\n",
    "\n",
    "        if (global_step - 1) % 10 == 0:\n",
    "            print(f\"Epoch {epoch + 1}/{NUM_EPOCHS} Iter {global_step}: Loss: {loss.item()}\")\n",
    "        train_nll = loss.detach() / (batch.shape[0] * 32 * 32 * 3 * np.log(2))\n",
    "        train_log.append(train_nll.item())\n",
    "\n",
    "        if ((global_step - 1) % val_steps == 0):\n",
    "            with torch.no_grad():\n",
    "                start_idx = 0\n",
    "                val_size = x_test.shape[0]\n",
    "                val_nll = torch.zeros([1]).float().cuda()\n",
    "                while start_idx < val_size:\n",
    "                    end_idx = min(val_size, start_idx + BATCH_SIZE)\n",
    "                    val_z, val_logdet = net(torch.from_numpy(x_test[start_idx:end_idx]).float().cuda())\n",
    "                    val_nll = val_nll + torch.sum(NLL_loss(val_z, val_logdet))\n",
    "                    start_idx += BATCH_SIZE\n",
    "                val_step.append(global_step - 1)\n",
    "                val_log.append(val_nll.item() / (val_size * 32 * 32 * 3 * np.log(2)))"
   ]
  },
  {
   "cell_type": "code",
   "execution_count": 58,
   "metadata": {
    "colab": {},
    "colab_type": "code",
    "id": "ulPL4fMUMBau"
   },
   "outputs": [
    {
     "data": {
      "text/plain": [
       "<matplotlib.legend.Legend at 0x7f5d600d6940>"
      ]
     },
     "execution_count": 58,
     "metadata": {},
     "output_type": "execute_result"
    },
    {
     "data": {
      "image/png": "[encoded data removed]",
      "text/plain": [
       "<Figure size 432x288 with 1 Axes>"
      ]
     },
     "metadata": {
      "needs_background": "light"
     },
     "output_type": "display_data"
    }
   ],
   "source": [
    "plt.plot(np.arange(len(train_log)), train_log, label=\"train\")\n",
    "plt.plot(val_step, val_log, label=\"val\")\n",
    "plt.xlabel(\"iters\")\n",
    "plt.legend()"
   ]
  },
  {
   "cell_type": "code",
   "execution_count": null,
   "metadata": {},
   "outputs": [],
   "source": []
  },
  {
   "cell_type": "code",
   "execution_count": null,
   "metadata": {},
   "outputs": [],
   "source": []
  },
  {
   "cell_type": "code",
   "execution_count": null,
   "metadata": {},
   "outputs": [],
   "source": []
  },
  {
   "cell_type": "code",
   "execution_count": null,
   "metadata": {},
   "outputs": [],
   "source": []
  }
 ],
 "metadata": {
  "accelerator": "GPU",
  "colab": {
   "name": "Untitled",
   "provenance": []
  },
  "kernelspec": {
   "display_name": "Python 3",
   "language": "python",
   "name": "python3"
  },
  "language_info": {
   "codemirror_mode": {
    "name": "ipython",
    "version": 3
   },
   "file_extension": ".py",
   "mimetype": "text/x-python",
   "name": "python",
   "nbconvert_exporter": "python",
   "pygments_lexer": "ipython3",
   "version": "3.6.8"
  }
 },
 "nbformat": 4,
 "nbformat_minor": 1
}
