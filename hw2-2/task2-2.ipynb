{
 "cells": [
  {
   "cell_type": "code",
   "execution_count": 4,
   "metadata": {
    "colab": {
     "base_uri": "https://localhost:8080/",
     "height": 122
    },
    "colab_type": "code",
    "id": "1D0UiuRT_jrB",
    "outputId": "3ff1b334-dba5-4398-9773-400d29ef141b"
   },
   "outputs": [
    {
     "name": "stdout",
     "output_type": "stream",
     "text": [
      "Go to this URL in a browser: https://accounts.google.com/o/oauth2/auth?client_id=947318989803-6bn6qk8qdgf4n4g3pfee6491hc0brc4i.apps.googleusercontent.com&redirect_uri=urn%3aietf%3awg%3aoauth%3a2.0%3aoob&response_type=code&scope=email%20https%3a%2f%2fwww.googleapis.com%2fauth%2fdocs.test%20https%3a%2f%2fwww.googleapis.com%2fauth%2fdrive%20https%3a%2f%2fwww.googleapis.com%2fauth%2fdrive.photos.readonly%20https%3a%2f%2fwww.googleapis.com%2fauth%2fpeopleapi.readonly\n",
      "\n",
      "Enter your authorization code:\n",
      "··········\n",
      "Mounted at ./gdrive\n"
     ]
    }
   ],
   "source": [
    "from google.colab import drive\n",
    "drive.mount('./gdrive')"
   ]
  },
  {
   "cell_type": "code",
   "execution_count": 3,
   "metadata": {},
   "outputs": [
    {
     "name": "stdout",
     "output_type": "stream",
     "text": [
      "Collecting tqdm\n",
      "\u001b[?25l  Downloading https://files.pythonhosted.org/packages/71/b0/6d63e33dbf5935dccd334ee2b83cc4d3828817de6faaa3a3f7f5b8cc5141/tqdm-4.40.1-py2.py3-none-any.whl (55kB)\n",
      "\u001b[K     |████████████████████████████████| 61kB 23.3MB/s eta 0:00:01\n",
      "\u001b[?25hInstalling collected packages: tqdm\n",
      "Successfully installed tqdm-4.40.1\n",
      "\u001b[33mWARNING: You are using pip version 19.2.1, however version 19.3.1 is available.\n",
      "You should consider upgrading via the 'pip install --upgrade pip' command.\u001b[0m\n"
     ]
    }
   ],
   "source": [
    "! pip install tqdm"
   ]
  },
  {
   "cell_type": "code",
   "execution_count": 4,
   "metadata": {
    "colab": {},
    "colab_type": "code",
    "id": "n3nWFjhaZASS"
   },
   "outputs": [],
   "source": [
    "import torch\n",
    "import torch.distributions\n",
    "import torch.nn as nn\n",
    "from tqdm.auto import tqdm\n",
    "from torch.distributions import Normal, MultivariateNormal, Uniform\n",
    "import torch.nn.functional as F\n",
    "from torch.autograd import Variable\n",
    "import pickle as pkl\n",
    "import torch.optim as optim\n",
    "from matplotlib import pyplot as plt\n",
    "import torch\n",
    "import numpy as np\n",
    "import matplotlib\n",
    "from sklearn.model_selection import train_test_split\n",
    "import random\n",
    "import os\n",
    "from torch.utils.data import DataLoader\n",
    "import torchvision\n",
    "import matplotlib.pyplot as plt\n",
    "from torchvision import transforms"
   ]
  },
  {
   "cell_type": "code",
   "execution_count": 5,
   "metadata": {
    "colab": {
     "base_uri": "https://localhost:8080/",
     "height": 34
    },
    "colab_type": "code",
    "id": "m6c7zlYg-D9v",
    "outputId": "70984d37-3ec6-4840-da97-a40c788c4e2e"
   },
   "outputs": [
    {
     "data": {
      "text/plain": [
       "device(type='cuda')"
      ]
     },
     "execution_count": 5,
     "metadata": {},
     "output_type": "execute_result"
    }
   ],
   "source": [
    "DEVICE = torch.device('cuda' if torch.cuda.is_available() else 'cpu')\n",
    "DEVICE"
   ]
  },
  {
   "cell_type": "code",
   "execution_count": 37,
   "metadata": {},
   "outputs": [],
   "source": [
    "EPS = 1e-6"
   ]
  },
  {
   "cell_type": "code",
   "execution_count": 7,
   "metadata": {
    "colab": {},
    "colab_type": "code",
    "id": "yPH0bzmh-d_j"
   },
   "outputs": [],
   "source": [
    "file = open('hw2_q2.pkl', 'rb')\n",
    "images = pkl.load(file)"
   ]
  },
  {
   "cell_type": "code",
   "execution_count": 19,
   "metadata": {
    "colab": {},
    "colab_type": "code",
    "id": "J0OVr2b0-eFO"
   },
   "outputs": [],
   "source": [
    "x_train = np.transpose(images['train'], [0, 3, 1, 2])\n",
    "x_test = np.transpose(images['test'], [0, 3, 1, 2])"
   ]
  },
  {
   "cell_type": "code",
   "execution_count": 20,
   "metadata": {
    "colab": {
     "base_uri": "https://localhost:8080/",
     "height": 34
    },
    "colab_type": "code",
    "id": "r_Oj2hqFETtx",
    "outputId": "cb2886c0-693a-4d76-af77-ee22660fa210"
   },
   "outputs": [
    {
     "data": {
      "text/plain": [
       "((20000, 3, 32, 32), (6838, 3, 32, 32))"
      ]
     },
     "execution_count": 20,
     "metadata": {},
     "output_type": "execute_result"
    }
   ],
   "source": [
    "x_train.shape, x_test.shape"
   ]
  },
  {
   "cell_type": "code",
   "execution_count": 79,
   "metadata": {},
   "outputs": [],
   "source": [
    "class DataLoader:\n",
    "    def __init__(self, data, target, batch_size=10):\n",
    "        self.data = data\n",
    "        self.target = target\n",
    "        self.batch_size = batch_size\n",
    "\n",
    "    def next(self):\n",
    "        m, _ = self.data.shape\n",
    "        rand_index = np.random.choice(m, size=m)\n",
    "        X, y = self.data[rand_index], self.target[rand_index]\n",
    "        pos = 0\n",
    "        while pos < m:\n",
    "            X_batch, y_batch = X[pos:pos+self.batch_size], y[pos:pos+self.batch_size]\n",
    "            yield (X_batch, y_batch)\n",
    "            pos += self.batch_size\n",
    "\n",
    "    def __call__(self):\n",
    "        return self.next()"
   ]
  },
  {
   "cell_type": "code",
   "execution_count": 80,
   "metadata": {
    "colab": {},
    "colab_type": "code",
    "id": "2feXp7BD-ECc"
   },
   "outputs": [],
   "source": [
    "class ResBlock(nn.Module):\n",
    "    def __init__(self, in_num, filts_num=32):\n",
    "        super(ResBlock, self).__init__()\n",
    "        self.conv1 = nn.Conv2d(in_num, filts_num, (1, 1))\n",
    "        self.conv2 = nn.Conv2d(filts_num, filts_num, (3, 3), padding=1)\n",
    "        self.conv3 = nn.Conv2d(filts_num, in_num, (1, 1))\n",
    "        \n",
    "    def forward(self, x):\n",
    "        c1 = self.conv1(x)\n",
    "        relu = torch.relu(c1)\n",
    "        c2 = self.conv2(c1)\n",
    "        relu = torch.relu(c2)\n",
    "        c3 = self.conv3(relu)\n",
    "        return x + c3"
   ]
  },
  {
   "cell_type": "code",
   "execution_count": 81,
   "metadata": {
    "colab": {},
    "colab_type": "code",
    "id": "rgSCYSpYLbGa"
   },
   "outputs": [],
   "source": [
    "class ResNet(nn.Module):\n",
    "    def __init__(self, in_num=3, filts_num=32, blocks_num=4):\n",
    "        super(ResNet, self).__init__()\n",
    "        out_num = in_num * 2        \n",
    "        self.conv1 = nn.Conv2d(in_num, filts_num, (3, 3), padding=1)\n",
    "        self.conv2 = nn.Conv2d(filts_num, out_num, (3, 3), padding=1)\n",
    "        self.blocks = nn.ModuleList()\n",
    "        for _ in range(blocks_num):\n",
    "            self.blocks.append(ResBlock(filts_num, filts_num))\n",
    "        \n",
    "    def forward(self, x):\n",
    "        h = self.conv1(x)\n",
    "        for block in self.blocks:\n",
    "            h = block(h)\n",
    "        relu = torch.relu(h)\n",
    "        out = self.conv2(relu)\n",
    "        return out"
   ]
  },
  {
   "cell_type": "code",
   "execution_count": 90,
   "metadata": {
    "colab": {},
    "colab_type": "code",
    "id": "4agjKoch-eHg"
   },
   "outputs": [],
   "source": [
    "def logit(x, rev=False):\n",
    "    if rev:\n",
    "        return torch.exp(x) / (torch.exp(x) + 1.0)\n",
    "    else:    \n",
    "        t = torch.abs(1.0 / x + 1.0 / (1.0 - x))\n",
    "        logdet = torch.log(t.flatten(start_dim=1) + EPS).sum(dim=1, keepdim=True)\n",
    "        return torch.log(x) - torch.log(1.0 - x), logdet\n",
    "\n",
    "def dequantize(x, alpha=0.05, rev=False):\n",
    "    if rev:\n",
    "        return 4.0 * (x - alpha) / (1.0 - alpha)\n",
    "    else:\n",
    "        t = torch.ones_like(x) * (1.0 - alpha) / 4.0\n",
    "        logdet = torch.log(torch.abs(t.flatten(start_dim=1))).sum(dim=1, keepdim=True)\n",
    "        return alpha + (1.0 - alpha) * x / 4.0, logdet\n",
    "    \n",
    "def preprocess(x, alpha=0.05, rev=False):\n",
    "    if rev:\n",
    "        return dequantize(logit(x, rev), alpha, rev)\n",
    "    else:\n",
    "        deq, logdet1 = dequantize(x, alpha, rev)\n",
    "        z, logdet2 = logit(deq, rev)\n",
    "        return z, logdet1 + logdet2"
   ]
  },
  {
   "cell_type": "code",
   "execution_count": 91,
   "metadata": {
    "colab": {},
    "colab_type": "code",
    "id": "l-X9cSYn-EHt"
   },
   "outputs": [],
   "source": [
    "class CouplingLayer(nn.Module):\n",
    "    def __init__(self, c=3, h=32, w=32, filts_num=32, blocks_num=4, mask=None):\n",
    "        super(CouplingLayer, self).__init__()\n",
    "        self.register_buffer(\"mask\", torch.ones([1, c, h, w], dtype=torch.float32))\n",
    "        if mask is not None:\n",
    "            self.mask.data.copy_(mask)\n",
    "        self.c = c\n",
    "        self.resNet = ResNet(self.c, filts_num, blocks_num)\n",
    "    \n",
    "    def forward(self, x, rev=False):\n",
    "        if not rev:\n",
    "            z = self.mask * x\n",
    "            log_s, t = torch.split(self.resNet(z), z.shape[1], dim=1)\n",
    "            log_s = torch.tanh(log_s)\n",
    "            z = z + (1.0 - self.mask) * (torch.exp(log_s) * x + t)\n",
    "            logdet = torch.sum(torch.flatten(log_s * (1.0 - self.mask), start_dim=1), dim=1, keepdim=True)\n",
    "            return z, logdet\n",
    "        else:\n",
    "            z = self.mask * x\n",
    "            log_s, t = torch.split(self.resNet(z), z.shape[1], dim=1)\n",
    "            log_s = torch.tanh(log_s)\n",
    "            z = z + (1.0 - self.mask) * (x - t) / torch.exp(log_s)\n",
    "            return z"
   ]
  },
  {
   "cell_type": "code",
   "execution_count": 92,
   "metadata": {
    "colab": {},
    "colab_type": "code",
    "id": "XkIWJENw-ELd"
   },
   "outputs": [],
   "source": [
    "def buildCheckerboardMask(c, h, w):\n",
    "    maskA = np.ones([1, c, h, w], dtype=np.bool)\n",
    "    maskB = np.ones([1, c, h, w], dtype=np.bool)\n",
    "    even_idx = [i for i in range(w) if not i & 1]\n",
    "    odd_idx = [i for i in range(h) if i & 1]\n",
    "    maskA[:, :, odd_idx,:] = False \n",
    "    maskB[:, :, :, even_idx] = False\n",
    "    mask = maskA ^ maskB\n",
    "    return torch.from_numpy(mask).float()"
   ]
  },
  {
   "cell_type": "code",
   "execution_count": 93,
   "metadata": {},
   "outputs": [],
   "source": [
    "def squeeze(x):\n",
    "    n, c, h, w = x.shape\n",
    "    return F.unfold(x, (2, 2), stride=2).reshape([n, 4 * c, h // 2, w // 2])\n",
    "\n",
    "def unsqueeze(x):\n",
    "    n, c, h, w = x.shape\n",
    "    return F.fold(x.reshape([n, c, -1]), (h * 2, w * 2), (2, 2), stride=2)\n",
    "\n",
    "\n",
    "def buildChannelSplitMask(c, h, w):\n",
    "    mask = torch.zeros([1, c, h, w], dtype=torch.float32)\n",
    "    idx = np.array([[4 * i, 4 * i + 1] for i in range(c // 4)]).reshape(-1)\n",
    "\n",
    "    mask[:, idx, :, :] = 1.0\n",
    "    return mask"
   ]
  },
  {
   "cell_type": "code",
   "execution_count": 94,
   "metadata": {
    "colab": {},
    "colab_type": "code",
    "id": "QSn8KFjB-EPy"
   },
   "outputs": [],
   "source": [
    "class ActNorm(nn.Module):\n",
    "    def __init__(self, c, h, w):\n",
    "        super(ActNorm, self).__init__()\n",
    "        self.register_parameter(\"s\", nn.Parameter(torch.ones([1, c, h, w])))\n",
    "        self.register_parameter(\"b\", nn.Parameter(torch.zeros([1, c, h, w])))\n",
    "        \n",
    "    def initialize(self, x):\n",
    "        std = torch.std(x, dim=0, keepdim=True)\n",
    "        self.s.data.copy_(1.0 / std)\n",
    "        self.b.data.copy_(-torch.mean(x * self.s, dim=0, keepdim=True))\n",
    "        \n",
    "    def forward(self, x, rev=False):\n",
    "        if not rev:\n",
    "            logdet = torch.sum(torch.flatten(torch.log(torch.abs(self.s) + 1e-6), start_dim=1), dim=1, keepdim=True)\n",
    "            out = x * self.s + self.b\n",
    "            return out, logdet\n",
    "        else:\n",
    "            out = (x - self.b) / self.s\n",
    "            return out"
   ]
  },
  {
   "cell_type": "code",
   "execution_count": 95,
   "metadata": {
    "colab": {},
    "colab_type": "code",
    "id": "_UEz08DI-ETH"
   },
   "outputs": [],
   "source": [
    "class RealNVP(nn.Module):    \n",
    "    def __init__(self):\n",
    "        super(RealNVP, self).__init__()\n",
    "        self.affLayers1 = nn.ModuleList()\n",
    "        mask = buildCheckerboardMask(3, 32, 32)\n",
    "        for _ in range(4):\n",
    "            self.affLayers1.append(CouplingLayer(3, 32, 32, mask=mask))\n",
    "            self.affLayers1.append(ActNorm(3, 32, 32))\n",
    "            mask = 1.0 - mask\n",
    "        \n",
    "        self.affLayers2 = nn.ModuleList()\n",
    "        mask = buildChannelSplitMask(12, 16, 16)\n",
    "        for _ in range(3):\n",
    "            self.affLayers2.append(CouplingLayer(12, 16, 16, mask=mask))\n",
    "            self.affLayers2.append(ActNorm(12, 16, 16))\n",
    "            mask = 1.0 - mask\n",
    "        \n",
    "        self.affLayers3 = nn.ModuleList()\n",
    "        mask = buildCheckerboardMask(12, 16, 16)\n",
    "        for _ in range(3):\n",
    "            self.affLayers3.append(CouplingLayer(12, 16, 16, mask=mask))\n",
    "            self.affLayers3.append(ActNorm(12, 16, 16))\n",
    "            mask = 1.0 - mask\n",
    "            \n",
    "        self.affLayers4 = nn.ModuleList()\n",
    "        mask = buildChannelSplitMask(48, 8, 8)\n",
    "        for _ in range(3):\n",
    "            self.affLayers4.append(CouplingLayer(48, 8, 8, mask=mask))\n",
    "            self.affLayers4.append(ActNorm(48, 8, 8))\n",
    "            mask = 1.0 - mask\n",
    "            \n",
    "        self.affLayers5 = nn.ModuleList()\n",
    "        mask = buildCheckerboardMask(48, 8, 8)\n",
    "        for i in range(3):\n",
    "            self.affLayers5.append(CouplingLayer(48, 8, 8, mask=mask))\n",
    "            self.affLayers5.append(ActNorm(48, 8, 8))\n",
    "            mask = 1.0 - mask\n",
    "\n",
    "    def forward(self, x, rev=False):\n",
    "        if not rev:\n",
    "            x, logdet = preprocess(x)\n",
    "            for layer in self.affLayers1:\n",
    "                x, cur_logdet = layer(x)\n",
    "                logdet = logdet + cur_logdet\n",
    "                \n",
    "            x = squeeze(x)\n",
    "            for layer in self.affLayers2:\n",
    "                x, cur_logdet = layer(x)\n",
    "                logdet = logdet + cur_logdet\n",
    "            for layer in self.affLayers3:\n",
    "                x, cur_logdet = layer(x)\n",
    "                logdet = logdet + cur_logdet\n",
    "\n",
    "            x = squeeze(x)\n",
    "            for layer in self.affLayers4:\n",
    "                x, cur_logdet = layer(x)\n",
    "                logdet = logdet + cur_logdet\n",
    "            for layer in self.affLayers5:\n",
    "                x, cur_logdet = layer(x)\n",
    "                logdet = logdet + cur_logdet\n",
    "\n",
    "            x = unsqueeze(x)\n",
    "            x = unsqueeze(x)\n",
    "            return x, logdet\n",
    "        else:\n",
    "            x = squeeze(x)\n",
    "            x = squeeze(x)\n",
    "            for layer in reversed(self.affLayers5):\n",
    "                x = layer(x, rev=rev)\n",
    "            for layer in reversed(self.affLayers4):\n",
    "                x = layer(x, rev=rev)\n",
    "            x = unsqueeze(x)\n",
    "            for layer in reversed(self.affLayers3):\n",
    "                x = layer(x, rev=rev)\n",
    "            for layer in reversed(self.affLayers2):\n",
    "                x = layer(x, rev=rev)\n",
    "            x = unsqueeze(x)\n",
    "            for layer in reversed(self.affLayers1):\n",
    "                x = layer(x, rev=rev)\n",
    "            x = preprocess(x, rev=rev)\n",
    "            return x\n",
    "\n",
    "    def initialize(self, x):\n",
    "        with torch.no_grad():\n",
    "            x, _ = preprocess(x)\n",
    "            for layer in self.affLayers1:\n",
    "                if isinstance(layer, ActNorm):\n",
    "                    layer.initialize(x)\n",
    "                x, _ = layer(x)    \n",
    "                \n",
    "            x = squeeze(x)\n",
    "            for layer in self.affLayers2:\n",
    "                if isinstance(layer, ActNorm):\n",
    "                    layer.initialize(x)\n",
    "                x,  _ = layer(x)\n",
    "            for layer in self.affLayers3:\n",
    "                if isinstance(layer, ActNorm):\n",
    "                    layer.initialize(x)\n",
    "                x, _ = layer(x)\n",
    "                \n",
    "            x = squeeze(x)\n",
    "            for layer in self.affLayers4:\n",
    "                if isinstance(layer, ActNorm):\n",
    "                    layer.initialize(x)\n",
    "                x, _ = layer(x)\n",
    "            for layer in self.affLayers5:\n",
    "                if isinstance(layer, ActNorm):\n",
    "                    layer.initialize(x)\n",
    "                x, _ = layer(x)\n",
    "                \n",
    "                \n",
    "def getNLL(z, logdet):\n",
    "#     pz = torch.exp(-torch.pow(z, 2) / 2) / np.sqrt(2 * np.pi)\n",
    "    m = torch.distributions.normal.Normal(0, 1)\n",
    "    log_pz = m.log_prob(z) \n",
    "    log_pz = torch.sum(torch.flatten(log_pz, start_dim=1), dim=1, keepdim=True)\n",
    "    nll = -(log_pz + logdet)\n",
    "    return nll"
   ]
  },
  {
   "cell_type": "code",
   "execution_count": 96,
   "metadata": {
    "colab": {
     "base_uri": "https://localhost:8080/",
     "height": 426
    },
    "colab_type": "code",
    "id": "E7dewpCX-EWh",
    "outputId": "e217e9d1-7267-4cf3-ad66-4421824eadbc"
   },
   "outputs": [
    {
     "name": "stdout",
     "output_type": "stream",
     "text": [
      "Epoch-1/100 Iter-1/312: Loss-252656.84375\n",
      "Epoch-1/100 Iter-31/312: Loss-57494.28125\n",
      "Epoch-1/100 Iter-61/312: Loss-10821.04785\n",
      "Epoch-1/100 Iter-91/312: Loss--22523.13086\n",
      "Epoch-1/100 Iter-121/312: Loss--31062.04883\n",
      "Epoch-1/100 Iter-151/312: Loss--60156.94141\n",
      "Epoch-1/100 Iter-181/312: Loss--59012.39062\n",
      "Epoch-1/100 Iter-211/312: Loss--63359.04297\n",
      "Epoch-1/100 Iter-241/312: Loss--57983.73438\n",
      "Epoch-1/100 Iter-271/312: Loss--72085.53125\n",
      "Epoch-1/100 Iter-301/312: Loss--87501.34375\n",
      "Epoch-2/100 Iter-1/312: Loss--92057.25000\n",
      "Epoch-2/100 Iter-31/312: Loss--77116.32812\n",
      "Epoch-2/100 Iter-61/312: Loss--104211.17188\n",
      "Epoch-2/100 Iter-91/312: Loss--130139.96094\n"
     ]
    },
    {
     "ename": "KeyboardInterrupt",
     "evalue": "",
     "output_type": "error",
     "traceback": [
      "\u001b[0;31m---------------------------------------------------------------------------\u001b[0m",
      "\u001b[0;31mKeyboardInterrupt\u001b[0m                         Traceback (most recent call last)",
      "\u001b[0;32m<ipython-input-96-1d283062d796>\u001b[0m in \u001b[0;36m<module>\u001b[0;34m\u001b[0m\n\u001b[1;32m     48\u001b[0m                 \u001b[0;32mwhile\u001b[0m \u001b[0mstart_idx\u001b[0m \u001b[0;34m<\u001b[0m \u001b[0mval_size\u001b[0m\u001b[0;34m:\u001b[0m\u001b[0;34m\u001b[0m\u001b[0;34m\u001b[0m\u001b[0m\n\u001b[1;32m     49\u001b[0m                     \u001b[0mend_idx\u001b[0m \u001b[0;34m=\u001b[0m \u001b[0mmin\u001b[0m\u001b[0;34m(\u001b[0m\u001b[0mval_size\u001b[0m\u001b[0;34m,\u001b[0m \u001b[0mstart_idx\u001b[0m \u001b[0;34m+\u001b[0m \u001b[0mbatch_size\u001b[0m\u001b[0;34m)\u001b[0m\u001b[0;34m\u001b[0m\u001b[0;34m\u001b[0m\u001b[0m\n\u001b[0;32m---> 50\u001b[0;31m                     \u001b[0mval_z\u001b[0m\u001b[0;34m,\u001b[0m \u001b[0mval_logdet\u001b[0m \u001b[0;34m=\u001b[0m \u001b[0mnet\u001b[0m\u001b[0;34m(\u001b[0m\u001b[0mtorch\u001b[0m\u001b[0;34m.\u001b[0m\u001b[0mfrom_numpy\u001b[0m\u001b[0;34m(\u001b[0m\u001b[0mx_test\u001b[0m\u001b[0;34m[\u001b[0m\u001b[0mstart_idx\u001b[0m\u001b[0;34m:\u001b[0m\u001b[0mend_idx\u001b[0m\u001b[0;34m]\u001b[0m\u001b[0;34m)\u001b[0m\u001b[0;34m.\u001b[0m\u001b[0mfloat\u001b[0m\u001b[0;34m(\u001b[0m\u001b[0;34m)\u001b[0m\u001b[0;34m.\u001b[0m\u001b[0mcuda\u001b[0m\u001b[0;34m(\u001b[0m\u001b[0;34m)\u001b[0m\u001b[0;34m)\u001b[0m\u001b[0;34m\u001b[0m\u001b[0;34m\u001b[0m\u001b[0m\n\u001b[0m\u001b[1;32m     51\u001b[0m                     \u001b[0mval_nll\u001b[0m \u001b[0;34m=\u001b[0m \u001b[0mval_nll\u001b[0m \u001b[0;34m+\u001b[0m \u001b[0mtorch\u001b[0m\u001b[0;34m.\u001b[0m\u001b[0msum\u001b[0m\u001b[0;34m(\u001b[0m\u001b[0mgetNLL\u001b[0m\u001b[0;34m(\u001b[0m\u001b[0mval_z\u001b[0m\u001b[0;34m,\u001b[0m \u001b[0mval_logdet\u001b[0m\u001b[0;34m)\u001b[0m\u001b[0;34m)\u001b[0m\u001b[0;34m\u001b[0m\u001b[0;34m\u001b[0m\u001b[0m\n\u001b[1;32m     52\u001b[0m                     \u001b[0mstart_idx\u001b[0m \u001b[0;34m+=\u001b[0m \u001b[0mbatch_size\u001b[0m\u001b[0;34m\u001b[0m\u001b[0;34m\u001b[0m\u001b[0m\n",
      "\u001b[0;32m/usr/local/lib/python3.6/dist-packages/torch/nn/modules/module.py\u001b[0m in \u001b[0;36m__call__\u001b[0;34m(self, *input, **kwargs)\u001b[0m\n\u001b[1;32m    545\u001b[0m             \u001b[0mresult\u001b[0m \u001b[0;34m=\u001b[0m \u001b[0mself\u001b[0m\u001b[0;34m.\u001b[0m\u001b[0m_slow_forward\u001b[0m\u001b[0;34m(\u001b[0m\u001b[0;34m*\u001b[0m\u001b[0minput\u001b[0m\u001b[0;34m,\u001b[0m \u001b[0;34m**\u001b[0m\u001b[0mkwargs\u001b[0m\u001b[0;34m)\u001b[0m\u001b[0;34m\u001b[0m\u001b[0;34m\u001b[0m\u001b[0m\n\u001b[1;32m    546\u001b[0m         \u001b[0;32melse\u001b[0m\u001b[0;34m:\u001b[0m\u001b[0;34m\u001b[0m\u001b[0;34m\u001b[0m\u001b[0m\n\u001b[0;32m--> 547\u001b[0;31m             \u001b[0mresult\u001b[0m \u001b[0;34m=\u001b[0m \u001b[0mself\u001b[0m\u001b[0;34m.\u001b[0m\u001b[0mforward\u001b[0m\u001b[0;34m(\u001b[0m\u001b[0;34m*\u001b[0m\u001b[0minput\u001b[0m\u001b[0;34m,\u001b[0m \u001b[0;34m**\u001b[0m\u001b[0mkwargs\u001b[0m\u001b[0;34m)\u001b[0m\u001b[0;34m\u001b[0m\u001b[0;34m\u001b[0m\u001b[0m\n\u001b[0m\u001b[1;32m    548\u001b[0m         \u001b[0;32mfor\u001b[0m \u001b[0mhook\u001b[0m \u001b[0;32min\u001b[0m \u001b[0mself\u001b[0m\u001b[0;34m.\u001b[0m\u001b[0m_forward_hooks\u001b[0m\u001b[0;34m.\u001b[0m\u001b[0mvalues\u001b[0m\u001b[0;34m(\u001b[0m\u001b[0;34m)\u001b[0m\u001b[0;34m:\u001b[0m\u001b[0;34m\u001b[0m\u001b[0;34m\u001b[0m\u001b[0m\n\u001b[1;32m    549\u001b[0m             \u001b[0mhook_result\u001b[0m \u001b[0;34m=\u001b[0m \u001b[0mhook\u001b[0m\u001b[0;34m(\u001b[0m\u001b[0mself\u001b[0m\u001b[0;34m,\u001b[0m \u001b[0minput\u001b[0m\u001b[0;34m,\u001b[0m \u001b[0mresult\u001b[0m\u001b[0;34m)\u001b[0m\u001b[0;34m\u001b[0m\u001b[0;34m\u001b[0m\u001b[0m\n",
      "\u001b[0;32m<ipython-input-95-40c0d90fc567>\u001b[0m in \u001b[0;36mforward\u001b[0;34m(self, x, rev)\u001b[0m\n\u001b[1;32m     49\u001b[0m             \u001b[0mx\u001b[0m \u001b[0;34m=\u001b[0m \u001b[0msqueeze\u001b[0m\u001b[0;34m(\u001b[0m\u001b[0mx\u001b[0m\u001b[0;34m)\u001b[0m\u001b[0;34m\u001b[0m\u001b[0;34m\u001b[0m\u001b[0m\n\u001b[1;32m     50\u001b[0m             \u001b[0;32mfor\u001b[0m \u001b[0mlayer\u001b[0m \u001b[0;32min\u001b[0m \u001b[0mself\u001b[0m\u001b[0;34m.\u001b[0m\u001b[0maffLayers2\u001b[0m\u001b[0;34m:\u001b[0m\u001b[0;34m\u001b[0m\u001b[0;34m\u001b[0m\u001b[0m\n\u001b[0;32m---> 51\u001b[0;31m                 \u001b[0mx\u001b[0m\u001b[0;34m,\u001b[0m \u001b[0mcur_logdet\u001b[0m \u001b[0;34m=\u001b[0m \u001b[0mlayer\u001b[0m\u001b[0;34m(\u001b[0m\u001b[0mx\u001b[0m\u001b[0;34m)\u001b[0m\u001b[0;34m\u001b[0m\u001b[0;34m\u001b[0m\u001b[0m\n\u001b[0m\u001b[1;32m     52\u001b[0m                 \u001b[0mlogdet\u001b[0m \u001b[0;34m=\u001b[0m \u001b[0mlogdet\u001b[0m \u001b[0;34m+\u001b[0m \u001b[0mcur_logdet\u001b[0m\u001b[0;34m\u001b[0m\u001b[0;34m\u001b[0m\u001b[0m\n\u001b[1;32m     53\u001b[0m             \u001b[0;32mfor\u001b[0m \u001b[0mlayer\u001b[0m \u001b[0;32min\u001b[0m \u001b[0mself\u001b[0m\u001b[0;34m.\u001b[0m\u001b[0maffLayers3\u001b[0m\u001b[0;34m:\u001b[0m\u001b[0;34m\u001b[0m\u001b[0;34m\u001b[0m\u001b[0m\n",
      "\u001b[0;32m/usr/local/lib/python3.6/dist-packages/torch/nn/modules/module.py\u001b[0m in \u001b[0;36m__call__\u001b[0;34m(self, *input, **kwargs)\u001b[0m\n\u001b[1;32m    545\u001b[0m             \u001b[0mresult\u001b[0m \u001b[0;34m=\u001b[0m \u001b[0mself\u001b[0m\u001b[0;34m.\u001b[0m\u001b[0m_slow_forward\u001b[0m\u001b[0;34m(\u001b[0m\u001b[0;34m*\u001b[0m\u001b[0minput\u001b[0m\u001b[0;34m,\u001b[0m \u001b[0;34m**\u001b[0m\u001b[0mkwargs\u001b[0m\u001b[0;34m)\u001b[0m\u001b[0;34m\u001b[0m\u001b[0;34m\u001b[0m\u001b[0m\n\u001b[1;32m    546\u001b[0m         \u001b[0;32melse\u001b[0m\u001b[0;34m:\u001b[0m\u001b[0;34m\u001b[0m\u001b[0;34m\u001b[0m\u001b[0m\n\u001b[0;32m--> 547\u001b[0;31m             \u001b[0mresult\u001b[0m \u001b[0;34m=\u001b[0m \u001b[0mself\u001b[0m\u001b[0;34m.\u001b[0m\u001b[0mforward\u001b[0m\u001b[0;34m(\u001b[0m\u001b[0;34m*\u001b[0m\u001b[0minput\u001b[0m\u001b[0;34m,\u001b[0m \u001b[0;34m**\u001b[0m\u001b[0mkwargs\u001b[0m\u001b[0;34m)\u001b[0m\u001b[0;34m\u001b[0m\u001b[0;34m\u001b[0m\u001b[0m\n\u001b[0m\u001b[1;32m    548\u001b[0m         \u001b[0;32mfor\u001b[0m \u001b[0mhook\u001b[0m \u001b[0;32min\u001b[0m \u001b[0mself\u001b[0m\u001b[0;34m.\u001b[0m\u001b[0m_forward_hooks\u001b[0m\u001b[0;34m.\u001b[0m\u001b[0mvalues\u001b[0m\u001b[0;34m(\u001b[0m\u001b[0;34m)\u001b[0m\u001b[0;34m:\u001b[0m\u001b[0;34m\u001b[0m\u001b[0;34m\u001b[0m\u001b[0m\n\u001b[1;32m    549\u001b[0m             \u001b[0mhook_result\u001b[0m \u001b[0;34m=\u001b[0m \u001b[0mhook\u001b[0m\u001b[0;34m(\u001b[0m\u001b[0mself\u001b[0m\u001b[0;34m,\u001b[0m \u001b[0minput\u001b[0m\u001b[0;34m,\u001b[0m \u001b[0mresult\u001b[0m\u001b[0;34m)\u001b[0m\u001b[0;34m\u001b[0m\u001b[0;34m\u001b[0m\u001b[0m\n",
      "\u001b[0;32m<ipython-input-91-3860709dc172>\u001b[0m in \u001b[0;36mforward\u001b[0;34m(self, x, rev)\u001b[0m\n\u001b[1;32m     11\u001b[0m         \u001b[0;32mif\u001b[0m \u001b[0;32mnot\u001b[0m \u001b[0mrev\u001b[0m\u001b[0;34m:\u001b[0m\u001b[0;34m\u001b[0m\u001b[0;34m\u001b[0m\u001b[0m\n\u001b[1;32m     12\u001b[0m             \u001b[0mz\u001b[0m \u001b[0;34m=\u001b[0m \u001b[0mself\u001b[0m\u001b[0;34m.\u001b[0m\u001b[0mmask\u001b[0m \u001b[0;34m*\u001b[0m \u001b[0mx\u001b[0m\u001b[0;34m\u001b[0m\u001b[0;34m\u001b[0m\u001b[0m\n\u001b[0;32m---> 13\u001b[0;31m             \u001b[0mlog_s\u001b[0m\u001b[0;34m,\u001b[0m \u001b[0mt\u001b[0m \u001b[0;34m=\u001b[0m \u001b[0mtorch\u001b[0m\u001b[0;34m.\u001b[0m\u001b[0msplit\u001b[0m\u001b[0;34m(\u001b[0m\u001b[0mself\u001b[0m\u001b[0;34m.\u001b[0m\u001b[0mresNet\u001b[0m\u001b[0;34m(\u001b[0m\u001b[0mz\u001b[0m\u001b[0;34m)\u001b[0m\u001b[0;34m,\u001b[0m \u001b[0mz\u001b[0m\u001b[0;34m.\u001b[0m\u001b[0mshape\u001b[0m\u001b[0;34m[\u001b[0m\u001b[0;36m1\u001b[0m\u001b[0;34m]\u001b[0m\u001b[0;34m,\u001b[0m \u001b[0mdim\u001b[0m\u001b[0;34m=\u001b[0m\u001b[0;36m1\u001b[0m\u001b[0;34m)\u001b[0m\u001b[0;34m\u001b[0m\u001b[0;34m\u001b[0m\u001b[0m\n\u001b[0m\u001b[1;32m     14\u001b[0m             \u001b[0mlog_s\u001b[0m \u001b[0;34m=\u001b[0m \u001b[0mtorch\u001b[0m\u001b[0;34m.\u001b[0m\u001b[0mtanh\u001b[0m\u001b[0;34m(\u001b[0m\u001b[0mlog_s\u001b[0m\u001b[0;34m)\u001b[0m\u001b[0;34m\u001b[0m\u001b[0;34m\u001b[0m\u001b[0m\n\u001b[1;32m     15\u001b[0m             \u001b[0mz\u001b[0m \u001b[0;34m=\u001b[0m \u001b[0mz\u001b[0m \u001b[0;34m+\u001b[0m \u001b[0;34m(\u001b[0m\u001b[0;36m1.0\u001b[0m \u001b[0;34m-\u001b[0m \u001b[0mself\u001b[0m\u001b[0;34m.\u001b[0m\u001b[0mmask\u001b[0m\u001b[0;34m)\u001b[0m \u001b[0;34m*\u001b[0m \u001b[0;34m(\u001b[0m\u001b[0mtorch\u001b[0m\u001b[0;34m.\u001b[0m\u001b[0mexp\u001b[0m\u001b[0;34m(\u001b[0m\u001b[0mlog_s\u001b[0m\u001b[0;34m)\u001b[0m \u001b[0;34m*\u001b[0m \u001b[0mx\u001b[0m \u001b[0;34m+\u001b[0m \u001b[0mt\u001b[0m\u001b[0;34m)\u001b[0m\u001b[0;34m\u001b[0m\u001b[0;34m\u001b[0m\u001b[0m\n",
      "\u001b[0;32m/usr/local/lib/python3.6/dist-packages/torch/nn/modules/module.py\u001b[0m in \u001b[0;36m__call__\u001b[0;34m(self, *input, **kwargs)\u001b[0m\n\u001b[1;32m    545\u001b[0m             \u001b[0mresult\u001b[0m \u001b[0;34m=\u001b[0m \u001b[0mself\u001b[0m\u001b[0;34m.\u001b[0m\u001b[0m_slow_forward\u001b[0m\u001b[0;34m(\u001b[0m\u001b[0;34m*\u001b[0m\u001b[0minput\u001b[0m\u001b[0;34m,\u001b[0m \u001b[0;34m**\u001b[0m\u001b[0mkwargs\u001b[0m\u001b[0;34m)\u001b[0m\u001b[0;34m\u001b[0m\u001b[0;34m\u001b[0m\u001b[0m\n\u001b[1;32m    546\u001b[0m         \u001b[0;32melse\u001b[0m\u001b[0;34m:\u001b[0m\u001b[0;34m\u001b[0m\u001b[0;34m\u001b[0m\u001b[0m\n\u001b[0;32m--> 547\u001b[0;31m             \u001b[0mresult\u001b[0m \u001b[0;34m=\u001b[0m \u001b[0mself\u001b[0m\u001b[0;34m.\u001b[0m\u001b[0mforward\u001b[0m\u001b[0;34m(\u001b[0m\u001b[0;34m*\u001b[0m\u001b[0minput\u001b[0m\u001b[0;34m,\u001b[0m \u001b[0;34m**\u001b[0m\u001b[0mkwargs\u001b[0m\u001b[0;34m)\u001b[0m\u001b[0;34m\u001b[0m\u001b[0;34m\u001b[0m\u001b[0m\n\u001b[0m\u001b[1;32m    548\u001b[0m         \u001b[0;32mfor\u001b[0m \u001b[0mhook\u001b[0m \u001b[0;32min\u001b[0m \u001b[0mself\u001b[0m\u001b[0;34m.\u001b[0m\u001b[0m_forward_hooks\u001b[0m\u001b[0;34m.\u001b[0m\u001b[0mvalues\u001b[0m\u001b[0;34m(\u001b[0m\u001b[0;34m)\u001b[0m\u001b[0;34m:\u001b[0m\u001b[0;34m\u001b[0m\u001b[0;34m\u001b[0m\u001b[0m\n\u001b[1;32m    549\u001b[0m             \u001b[0mhook_result\u001b[0m \u001b[0;34m=\u001b[0m \u001b[0mhook\u001b[0m\u001b[0;34m(\u001b[0m\u001b[0mself\u001b[0m\u001b[0;34m,\u001b[0m \u001b[0minput\u001b[0m\u001b[0;34m,\u001b[0m \u001b[0mresult\u001b[0m\u001b[0;34m)\u001b[0m\u001b[0;34m\u001b[0m\u001b[0;34m\u001b[0m\u001b[0m\n",
      "\u001b[0;32m<ipython-input-81-c33f43056ec7>\u001b[0m in \u001b[0;36mforward\u001b[0;34m(self, x)\u001b[0m\n\u001b[1;32m     12\u001b[0m         \u001b[0mh\u001b[0m \u001b[0;34m=\u001b[0m \u001b[0mself\u001b[0m\u001b[0;34m.\u001b[0m\u001b[0mconv1\u001b[0m\u001b[0;34m(\u001b[0m\u001b[0mx\u001b[0m\u001b[0;34m)\u001b[0m\u001b[0;34m\u001b[0m\u001b[0;34m\u001b[0m\u001b[0m\n\u001b[1;32m     13\u001b[0m         \u001b[0;32mfor\u001b[0m \u001b[0mblock\u001b[0m \u001b[0;32min\u001b[0m \u001b[0mself\u001b[0m\u001b[0;34m.\u001b[0m\u001b[0mblocks\u001b[0m\u001b[0;34m:\u001b[0m\u001b[0;34m\u001b[0m\u001b[0;34m\u001b[0m\u001b[0m\n\u001b[0;32m---> 14\u001b[0;31m             \u001b[0mh\u001b[0m \u001b[0;34m=\u001b[0m \u001b[0mblock\u001b[0m\u001b[0;34m(\u001b[0m\u001b[0mh\u001b[0m\u001b[0;34m)\u001b[0m\u001b[0;34m\u001b[0m\u001b[0;34m\u001b[0m\u001b[0m\n\u001b[0m\u001b[1;32m     15\u001b[0m         \u001b[0mrelu\u001b[0m \u001b[0;34m=\u001b[0m \u001b[0mtorch\u001b[0m\u001b[0;34m.\u001b[0m\u001b[0mrelu\u001b[0m\u001b[0;34m(\u001b[0m\u001b[0mh\u001b[0m\u001b[0;34m)\u001b[0m\u001b[0;34m\u001b[0m\u001b[0;34m\u001b[0m\u001b[0m\n\u001b[1;32m     16\u001b[0m         \u001b[0mout\u001b[0m \u001b[0;34m=\u001b[0m \u001b[0mself\u001b[0m\u001b[0;34m.\u001b[0m\u001b[0mconv2\u001b[0m\u001b[0;34m(\u001b[0m\u001b[0mrelu\u001b[0m\u001b[0;34m)\u001b[0m\u001b[0;34m\u001b[0m\u001b[0;34m\u001b[0m\u001b[0m\n",
      "\u001b[0;32m/usr/local/lib/python3.6/dist-packages/torch/nn/modules/module.py\u001b[0m in \u001b[0;36m__call__\u001b[0;34m(self, *input, **kwargs)\u001b[0m\n\u001b[1;32m    545\u001b[0m             \u001b[0mresult\u001b[0m \u001b[0;34m=\u001b[0m \u001b[0mself\u001b[0m\u001b[0;34m.\u001b[0m\u001b[0m_slow_forward\u001b[0m\u001b[0;34m(\u001b[0m\u001b[0;34m*\u001b[0m\u001b[0minput\u001b[0m\u001b[0;34m,\u001b[0m \u001b[0;34m**\u001b[0m\u001b[0mkwargs\u001b[0m\u001b[0;34m)\u001b[0m\u001b[0;34m\u001b[0m\u001b[0;34m\u001b[0m\u001b[0m\n\u001b[1;32m    546\u001b[0m         \u001b[0;32melse\u001b[0m\u001b[0;34m:\u001b[0m\u001b[0;34m\u001b[0m\u001b[0;34m\u001b[0m\u001b[0m\n\u001b[0;32m--> 547\u001b[0;31m             \u001b[0mresult\u001b[0m \u001b[0;34m=\u001b[0m \u001b[0mself\u001b[0m\u001b[0;34m.\u001b[0m\u001b[0mforward\u001b[0m\u001b[0;34m(\u001b[0m\u001b[0;34m*\u001b[0m\u001b[0minput\u001b[0m\u001b[0;34m,\u001b[0m \u001b[0;34m**\u001b[0m\u001b[0mkwargs\u001b[0m\u001b[0;34m)\u001b[0m\u001b[0;34m\u001b[0m\u001b[0;34m\u001b[0m\u001b[0m\n\u001b[0m\u001b[1;32m    548\u001b[0m         \u001b[0;32mfor\u001b[0m \u001b[0mhook\u001b[0m \u001b[0;32min\u001b[0m \u001b[0mself\u001b[0m\u001b[0;34m.\u001b[0m\u001b[0m_forward_hooks\u001b[0m\u001b[0;34m.\u001b[0m\u001b[0mvalues\u001b[0m\u001b[0;34m(\u001b[0m\u001b[0;34m)\u001b[0m\u001b[0;34m:\u001b[0m\u001b[0;34m\u001b[0m\u001b[0;34m\u001b[0m\u001b[0m\n\u001b[1;32m    549\u001b[0m             \u001b[0mhook_result\u001b[0m \u001b[0;34m=\u001b[0m \u001b[0mhook\u001b[0m\u001b[0;34m(\u001b[0m\u001b[0mself\u001b[0m\u001b[0;34m,\u001b[0m \u001b[0minput\u001b[0m\u001b[0;34m,\u001b[0m \u001b[0mresult\u001b[0m\u001b[0;34m)\u001b[0m\u001b[0;34m\u001b[0m\u001b[0;34m\u001b[0m\u001b[0m\n",
      "\u001b[0;32m<ipython-input-80-2627d460a3ae>\u001b[0m in \u001b[0;36mforward\u001b[0;34m(self, x)\u001b[0m\n\u001b[1;32m     11\u001b[0m         \u001b[0mc2\u001b[0m \u001b[0;34m=\u001b[0m \u001b[0mself\u001b[0m\u001b[0;34m.\u001b[0m\u001b[0mconv2\u001b[0m\u001b[0;34m(\u001b[0m\u001b[0mc1\u001b[0m\u001b[0;34m)\u001b[0m\u001b[0;34m\u001b[0m\u001b[0;34m\u001b[0m\u001b[0m\n\u001b[1;32m     12\u001b[0m         \u001b[0mrelu\u001b[0m \u001b[0;34m=\u001b[0m \u001b[0mtorch\u001b[0m\u001b[0;34m.\u001b[0m\u001b[0mrelu\u001b[0m\u001b[0;34m(\u001b[0m\u001b[0mc2\u001b[0m\u001b[0;34m)\u001b[0m\u001b[0;34m\u001b[0m\u001b[0;34m\u001b[0m\u001b[0m\n\u001b[0;32m---> 13\u001b[0;31m         \u001b[0mc3\u001b[0m \u001b[0;34m=\u001b[0m \u001b[0mself\u001b[0m\u001b[0;34m.\u001b[0m\u001b[0mconv3\u001b[0m\u001b[0;34m(\u001b[0m\u001b[0mrelu\u001b[0m\u001b[0;34m)\u001b[0m\u001b[0;34m\u001b[0m\u001b[0;34m\u001b[0m\u001b[0m\n\u001b[0m\u001b[1;32m     14\u001b[0m         \u001b[0;32mreturn\u001b[0m \u001b[0mx\u001b[0m \u001b[0;34m+\u001b[0m \u001b[0mc3\u001b[0m\u001b[0;34m\u001b[0m\u001b[0;34m\u001b[0m\u001b[0m\n",
      "\u001b[0;32m/usr/local/lib/python3.6/dist-packages/torch/nn/modules/module.py\u001b[0m in \u001b[0;36m__call__\u001b[0;34m(self, *input, **kwargs)\u001b[0m\n\u001b[1;32m    545\u001b[0m             \u001b[0mresult\u001b[0m \u001b[0;34m=\u001b[0m \u001b[0mself\u001b[0m\u001b[0;34m.\u001b[0m\u001b[0m_slow_forward\u001b[0m\u001b[0;34m(\u001b[0m\u001b[0;34m*\u001b[0m\u001b[0minput\u001b[0m\u001b[0;34m,\u001b[0m \u001b[0;34m**\u001b[0m\u001b[0mkwargs\u001b[0m\u001b[0;34m)\u001b[0m\u001b[0;34m\u001b[0m\u001b[0;34m\u001b[0m\u001b[0m\n\u001b[1;32m    546\u001b[0m         \u001b[0;32melse\u001b[0m\u001b[0;34m:\u001b[0m\u001b[0;34m\u001b[0m\u001b[0;34m\u001b[0m\u001b[0m\n\u001b[0;32m--> 547\u001b[0;31m             \u001b[0mresult\u001b[0m \u001b[0;34m=\u001b[0m \u001b[0mself\u001b[0m\u001b[0;34m.\u001b[0m\u001b[0mforward\u001b[0m\u001b[0;34m(\u001b[0m\u001b[0;34m*\u001b[0m\u001b[0minput\u001b[0m\u001b[0;34m,\u001b[0m \u001b[0;34m**\u001b[0m\u001b[0mkwargs\u001b[0m\u001b[0;34m)\u001b[0m\u001b[0;34m\u001b[0m\u001b[0;34m\u001b[0m\u001b[0m\n\u001b[0m\u001b[1;32m    548\u001b[0m         \u001b[0;32mfor\u001b[0m \u001b[0mhook\u001b[0m \u001b[0;32min\u001b[0m \u001b[0mself\u001b[0m\u001b[0;34m.\u001b[0m\u001b[0m_forward_hooks\u001b[0m\u001b[0;34m.\u001b[0m\u001b[0mvalues\u001b[0m\u001b[0;34m(\u001b[0m\u001b[0;34m)\u001b[0m\u001b[0;34m:\u001b[0m\u001b[0;34m\u001b[0m\u001b[0;34m\u001b[0m\u001b[0m\n\u001b[1;32m    549\u001b[0m             \u001b[0mhook_result\u001b[0m \u001b[0;34m=\u001b[0m \u001b[0mhook\u001b[0m\u001b[0;34m(\u001b[0m\u001b[0mself\u001b[0m\u001b[0;34m,\u001b[0m \u001b[0minput\u001b[0m\u001b[0;34m,\u001b[0m \u001b[0mresult\u001b[0m\u001b[0;34m)\u001b[0m\u001b[0;34m\u001b[0m\u001b[0;34m\u001b[0m\u001b[0m\n",
      "\u001b[0;32m/usr/local/lib/python3.6/dist-packages/torch/nn/modules/conv.py\u001b[0m in \u001b[0;36mforward\u001b[0;34m(self, input)\u001b[0m\n\u001b[1;32m    341\u001b[0m \u001b[0;34m\u001b[0m\u001b[0m\n\u001b[1;32m    342\u001b[0m     \u001b[0;32mdef\u001b[0m \u001b[0mforward\u001b[0m\u001b[0;34m(\u001b[0m\u001b[0mself\u001b[0m\u001b[0;34m,\u001b[0m \u001b[0minput\u001b[0m\u001b[0;34m)\u001b[0m\u001b[0;34m:\u001b[0m\u001b[0;34m\u001b[0m\u001b[0;34m\u001b[0m\u001b[0m\n\u001b[0;32m--> 343\u001b[0;31m         \u001b[0;32mreturn\u001b[0m \u001b[0mself\u001b[0m\u001b[0;34m.\u001b[0m\u001b[0mconv2d_forward\u001b[0m\u001b[0;34m(\u001b[0m\u001b[0minput\u001b[0m\u001b[0;34m,\u001b[0m \u001b[0mself\u001b[0m\u001b[0;34m.\u001b[0m\u001b[0mweight\u001b[0m\u001b[0;34m)\u001b[0m\u001b[0;34m\u001b[0m\u001b[0;34m\u001b[0m\u001b[0m\n\u001b[0m\u001b[1;32m    344\u001b[0m \u001b[0;34m\u001b[0m\u001b[0m\n\u001b[1;32m    345\u001b[0m \u001b[0;32mclass\u001b[0m \u001b[0mConv3d\u001b[0m\u001b[0;34m(\u001b[0m\u001b[0m_ConvNd\u001b[0m\u001b[0;34m)\u001b[0m\u001b[0;34m:\u001b[0m\u001b[0;34m\u001b[0m\u001b[0;34m\u001b[0m\u001b[0m\n",
      "\u001b[0;32m/usr/local/lib/python3.6/dist-packages/torch/nn/modules/conv.py\u001b[0m in \u001b[0;36mconv2d_forward\u001b[0;34m(self, input, weight)\u001b[0m\n\u001b[1;32m    338\u001b[0m                             _pair(0), self.dilation, self.groups)\n\u001b[1;32m    339\u001b[0m         return F.conv2d(input, weight, self.bias, self.stride,\n\u001b[0;32m--> 340\u001b[0;31m                         self.padding, self.dilation, self.groups)\n\u001b[0m\u001b[1;32m    341\u001b[0m \u001b[0;34m\u001b[0m\u001b[0m\n\u001b[1;32m    342\u001b[0m     \u001b[0;32mdef\u001b[0m \u001b[0mforward\u001b[0m\u001b[0;34m(\u001b[0m\u001b[0mself\u001b[0m\u001b[0;34m,\u001b[0m \u001b[0minput\u001b[0m\u001b[0;34m)\u001b[0m\u001b[0;34m:\u001b[0m\u001b[0;34m\u001b[0m\u001b[0;34m\u001b[0m\u001b[0m\n",
      "\u001b[0;31mKeyboardInterrupt\u001b[0m: "
     ]
    }
   ],
   "source": [
    "batch_size = 64\n",
    "n_epochs = 100\n",
    "train_size = x_train.shape[0]\n",
    "n_iter_per_epoch = train_size // batch_size\n",
    "val_steps = n_iter_per_epoch // 8\n",
    "lr = 1e-3\n",
    "logs = {}\n",
    "\n",
    "net = RealNVP().cuda()\n",
    "opt = optim.Adam(net.parameters(), lr=lr)\n",
    "\n",
    "train_log = []\n",
    "val_log = []\n",
    "global_step = 0\n",
    "\n",
    "sample_idx = np.random.choice(np.arange(0, train_size), 128)\n",
    "init_batch = torch.from_numpy(x_train[sample_idx]).float().cuda()\n",
    "net.initialize(init_batch)\n",
    "\n",
    "for epoch in range(n_epochs):\n",
    "    idx = np.random.permutation(train_size)\n",
    "    for i in range(n_iter_per_epoch):\n",
    "        global_step += 1\n",
    "\n",
    "        batch = torch.from_numpy(x_train[idx[i * batch_size: (i + 1) * batch_size], :]).float().cuda()\n",
    "        z, logdet = net(batch)\n",
    "        nll = getNLL(z, logdet)\n",
    "        loss = torch.sum(nll, dim=0)\n",
    "        \n",
    "        opt.zero_grad()\n",
    "        loss.backward()\n",
    "        opt.step()\n",
    "\n",
    "        if i % 30 == 0:\n",
    "            print(\"Epoch-{:d}/{:d} Iter-{:d}/{:d}: Loss-{:.5f}\".format(epoch + 1, n_epochs, i + 1, n_iter_per_epoch, loss.item()))\n",
    "        train_nll = loss.detach() / (batch_size * 32 * 32 * 3 * np.log(2))\n",
    "        train_log.append(train_nll.item())\n",
    "\n",
    "        # validation\n",
    "        if (global_step % val_steps == 0):\n",
    "            with torch.no_grad():\n",
    "                start_idx = 0\n",
    "                val_size = x_test.shape[0]\n",
    "                val_nll = torch.zeros([1]).float().cuda()\n",
    "                while start_idx < val_size:\n",
    "                    end_idx = min(val_size, start_idx + batch_size)\n",
    "                    val_z, val_logdet = net(torch.from_numpy(x_test[start_idx:end_idx]).float().cuda())\n",
    "                    val_nll = val_nll + torch.sum(getNLL(val_z, val_logdet))\n",
    "                    start_idx += batch_size\n",
    "                val_log.append(val_nll.item() / (val_size * 32 * 32 * 3 * np.log(2)))"
   ]
  },
  {
   "cell_type": "code",
   "execution_count": 97,
   "metadata": {
    "colab": {},
    "colab_type": "code",
    "id": "ulPL4fMUMBau"
   },
   "outputs": [
    {
     "data": {
      "text/plain": [
       "<matplotlib.legend.Legend at 0x7f0b698cf860>"
      ]
     },
     "execution_count": 97,
     "metadata": {},
     "output_type": "execute_result"
    },
    {
     "data": {
      "image/png": "[encoded data removed]",
      "text/plain": [
       "<Figure size 432x288 with 1 Axes>"
      ]
     },
     "metadata": {
      "needs_background": "light"
     },
     "output_type": "display_data"
    }
   ],
   "source": [
    "plt.plot(np.arange(len(train_log)), train_log, label=\"train\")\n",
    "plt.plot([i * 39 for i in np.arange(len(val_log))], val_log, label=\"val\")\n",
    "plt.xlabel(\"Iterations\")\n",
    "plt.ylabel(\"Bits/dim\")\n",
    "plt.legend()"
   ]
  },
  {
   "cell_type": "code",
   "execution_count": null,
   "metadata": {},
   "outputs": [],
   "source": []
  },
  {
   "cell_type": "code",
   "execution_count": null,
   "metadata": {},
   "outputs": [],
   "source": []
  }
 ],
 "metadata": {
  "accelerator": "GPU",
  "colab": {
   "name": "Untitled",
   "provenance": []
  },
  "kernelspec": {
   "display_name": "Python 3",
   "language": "python",
   "name": "python3"
  },
  "language_info": {
   "codemirror_mode": {
    "name": "ipython",
    "version": 3
   },
   "file_extension": ".py",
   "mimetype": "text/x-python",
   "name": "python",
   "nbconvert_exporter": "python",
   "pygments_lexer": "ipython3",
   "version": "3.6.8"
  }
 },
 "nbformat": 4,
 "nbformat_minor": 1
}
